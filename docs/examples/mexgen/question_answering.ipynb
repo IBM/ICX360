{
 "cells": [
  {
   "cell_type": "markdown",
   "id": "27eeacf3-ee41-4b64-a1a8-0df725e6e210",
   "metadata": {},
   "source": [
    "# MExGen for Question Answering"
   ]
  },
  {
   "cell_type": "markdown",
   "id": "d210ed4d-98ae-4f0e-a0ff-b1607a57ee1c",
   "metadata": {},
   "source": [
    "This notebook walks through an example of using MExGen (Multi-Level Explanations for Generative Language Models) to explain an LLM's response to a question in terms of a document provided as context to the LLM.\n",
    "\n",
    "After setting things up in Section 1, we will obtain explanations in the form of sentence-level attributions to the input document in Section 2, followed by mixed word- and sentence-level attributions in Section 3. We will then evaluate the fidelity of these explanations to the LLM in Section 4."
   ]
  },
  {
   "cell_type": "markdown",
   "id": "f92376b1-f554-4010-9438-ab788b39fd4b",
   "metadata": {},
   "source": [
    "## 1. Setup"
   ]
  },
  {
   "cell_type": "markdown",
   "id": "b3a189c3-4b6d-4d43-a5e9-fb1fffc2c5b8",
   "metadata": {},
   "source": [
    "### Import packages"
   ]
  },
  {
   "cell_type": "markdown",
   "id": "46077b2c-7e6f-4978-a331-850a9aae8a61",
   "metadata": {},
   "source": [
    "Standard packages"
   ]
  },
  {
   "cell_type": "code",
   "execution_count": null,
   "id": "b6d8dc9a-e287-4d7c-87ee-bac11414382c",
   "metadata": {},
   "outputs": [],
   "source": [
    "import matplotlib.pyplot as plt    # for plotting perturbation curves\n",
    "import numpy as np\n",
    "from openai import OpenAI    # for VLLM QA model\n",
    "import pandas as pd    # only for displaying DataFrames\n",
    "import torch\n",
    "from transformers import AutoModelForCausalLM, AutoTokenizer, T5ForConditionalGeneration, T5TokenizerFast    # for HuggingFace QA models"
   ]
  },
  {
   "cell_type": "markdown",
   "id": "8d139c6e-fe1d-424c-8a41-d26ec0195aed",
   "metadata": {},
   "source": [
    "ICX360 classes"
   ]
  },
  {
   "cell_type": "code",
   "execution_count": 2,
   "id": "79754afc-75e0-43b2-91ad-3e88d76ca991",
   "metadata": {},
   "outputs": [],
   "source": [
    "from icx360.algorithms.mexgen import CLIME, LSHAP    # explainers\n",
    "from icx360.metrics import PerturbCurveEvaluator    # fidelity evaluation\n",
    "from icx360.utils.general_utils import select_device    # set device automatically\n",
    "from icx360.utils.model_wrappers import HFModel, VLLMModel    # model wrappers"
   ]
  },
  {
   "cell_type": "code",
   "execution_count": 3,
   "id": "feac19ac-3a2b-4805-a7e8-643bb11916c5",
   "metadata": {
    "scrolled": true
   },
   "outputs": [
    {
     "data": {
      "text/plain": [
       "device(type='cuda')"
      ]
     },
     "execution_count": 3,
     "metadata": {},
     "output_type": "execute_result"
    }
   ],
   "source": [
    "device = select_device()\n",
    "device"
   ]
  },
  {
   "cell_type": "markdown",
   "id": "bee856e3-fb2a-41cc-8519-8a8fd1f87061",
   "metadata": {},
   "source": [
    "### Load model to explain"
   ]
  },
  {
   "cell_type": "markdown",
   "id": "f6ac9d7d-b590-47c4-b3e6-7bc7593ca96e",
   "metadata": {},
   "source": [
    "Here you can choose from the following models:\n",
    "- `\"flan-t5\"`: An older (encoder-decoder) model from HuggingFace\n",
    "- `\"granite-hf\"`: A newer (decoder-only) model from HuggingFace\n",
    "- `\"vllm\"`: A model served using VLLM. This is a \"bring your own model\" option, for which you will have to supply the parameters below (`model_name`, `base_url`, `api_key`, and any others)."
   ]
  },
  {
   "cell_type": "code",
   "execution_count": 4,
   "id": "ae9e1a54-4dc1-4908-8b59-6574bb4b3547",
   "metadata": {},
   "outputs": [],
   "source": [
    "model_type = \"flan-t5\"\n",
    "# model_type = \"granite-hf\"\n",
    "# model_type = \"vllm\""
   ]
  },
  {
   "cell_type": "code",
   "execution_count": 5,
   "id": "3927ec4c-a6a3-4dcf-9761-b51e95038f30",
   "metadata": {},
   "outputs": [],
   "source": [
    "if model_type == \"flan-t5\":\n",
    "    model_name = \"google/flan-t5-large\"\n",
    "    model = T5ForConditionalGeneration.from_pretrained(model_name).to(device)\n",
    "    tokenizer = T5TokenizerFast.from_pretrained(model_name)\n",
    "\n",
    "elif model_type == \"granite-hf\":\n",
    "    model_name = \"ibm-granite/granite-3.3-2b-instruct\"\n",
    "    model = AutoModelForCausalLM.from_pretrained(model_name, torch_dtype=torch.bfloat16).to(device)\n",
    "    tokenizer = AutoTokenizer.from_pretrained(model_name, add_prefix_space=True)\n",
    "\n",
    "elif model_type == \"vllm\":\n",
    "    # IF YOU HAVE A VLLM MODEL, UNCOMMENT AND REPLACE THE FOLLOWING LINES WITH YOUR MODEL'S PARAMETERS\n",
    "    # base_url = \"https://YOUR/MODEL/URL\"\n",
    "    # api_key = YOUR_API_KEY\n",
    "    # openai_kwargs = {}\n",
    "    model = OpenAI(api_key=api_key, base_url=base_url, **openai_kwargs)\n",
    "    # Corresponding HuggingFace tokenizer for applying chat template\n",
    "    # model_name = \"YOUR/MODEL-NAME\"\n",
    "    # tokenizer_kwargs = {}\n",
    "    tokenizer = AutoTokenizer.from_pretrained(model_name, **tokenizer_kwargs)\n",
    "\n",
    "else:\n",
    "    raise ValueError(\"Unknown model type\")"
   ]
  },
  {
   "cell_type": "markdown",
   "id": "3db778c8-7713-4a50-bbf9-d875b48e3a17",
   "metadata": {},
   "source": [
    "We then wrap the model with a common API (`HFModel` or `VLLMModel`) that the explainer will use."
   ]
  },
  {
   "cell_type": "code",
   "execution_count": 6,
   "id": "431c9813-04f1-4a30-869e-35beece2e190",
   "metadata": {},
   "outputs": [],
   "source": [
    "if model_type in (\"flan-t5\", \"granite-hf\"):\n",
    "    wrapped_model = HFModel(model, tokenizer)\n",
    "elif model_type == \"vllm\":\n",
    "    wrapped_model = VLLMModel(model, model_name, tokenizer)"
   ]
  },
  {
   "cell_type": "markdown",
   "id": "36cc216e-9550-499b-aaca-e52eb7df9142",
   "metadata": {},
   "source": [
    "### Prepare input"
   ]
  },
  {
   "cell_type": "markdown",
   "id": "bbc88416-33a5-4ee6-80bc-c09657246511",
   "metadata": {},
   "source": [
    "First the context document:"
   ]
  },
  {
   "cell_type": "code",
   "execution_count": 7,
   "id": "8a558b5b-224d-4373-bd43-91b4b8c26340",
   "metadata": {},
   "outputs": [],
   "source": [
    "context = ('In July 2002, Beyonce continued her acting career playing Foxxy Cleopatra alongside Mike Myers in the'\n",
    "           ' comedy film, Austin Powers in Goldmember, which spent its first weekend atop the US box office and grossed'\n",
    "           ' $73 million. Beyonce released \"Work It Out\" as the lead single from its soundtrack album which entered'\n",
    "           ' the top ten in the UK, Norway, and Belgium. In 2003, Beyonce starred opposite Cuba Gooding, Jr., in the'\n",
    "           \" musical comedy The Fighting Temptations as Lilly, a single mother whom Gooding's character falls in love\"\n",
    "           ' with. The film received mixed reviews from critics but grossed $30 million in the U.S. Beyonce released'\n",
    "           \" \\\"Fighting Temptation\\\" as the lead single from the film's soundtrack album, with Missy Elliott, MC Lyte, and\"\n",
    "           \" Free which was also used to promote the film. Another of Beyonce's contributions to the soundtrack,\"\n",
    "           ' \"Summertime\", fared better on the US charts.')"
   ]
  },
  {
   "cell_type": "markdown",
   "id": "c4c72e17-a0fb-41c4-9796-27468fdd82b1",
   "metadata": {},
   "source": [
    "We will make it slightly more interesting by omitting the title of the movie that we will ask about."
   ]
  },
  {
   "cell_type": "code",
   "execution_count": 8,
   "id": "1eebdf0d-89da-4fed-9c67-9d6a672594f9",
   "metadata": {},
   "outputs": [],
   "source": [
    "omit_title = True\n",
    "\n",
    "if omit_title:\n",
    "    context = context.replace(\"the musical comedy The Fighting Temptations\", \"a musical comedy\")"
   ]
  },
  {
   "cell_type": "markdown",
   "id": "d054c75a-7693-4fd8-85b3-cc599fa9a029",
   "metadata": {},
   "source": [
    "For the question, you can choose from among ones that provide progressively less detail:"
   ]
  },
  {
   "cell_type": "code",
   "execution_count": 9,
   "id": "0d49491d-63f1-44fa-8e0e-c18f39c3a04f",
   "metadata": {},
   "outputs": [],
   "source": [
    "#question = \"What musical comedy did Beyonce star in along with Cuba Gooding, Jr. in 2003?\"\n",
    "#question = \"What movie did Beyonce star in along with Cuba Gooding, Jr. in 2003?\"\n",
    "question = \"What movie did Beyonce star in in 2003?\"\n",
    "#question = \"What movie did Beyonce act in in 2003?\""
   ]
  },
  {
   "cell_type": "markdown",
   "id": "de96a4c9-7242-42cf-88de-8d05f270d75f",
   "metadata": {},
   "source": [
    "We then construct the prompt as a list. This will allow parts of the prompt (the template elements and the question) to not be perturbed or attributed to later."
   ]
  },
  {
   "cell_type": "code",
   "execution_count": 10,
   "id": "53245335-d66a-478d-b8b7-5dbbf94c93ae",
   "metadata": {},
   "outputs": [
    {
     "data": {
      "text/plain": [
       "['Context: ',\n",
       " 'In July 2002, Beyonce continued her acting career playing Foxxy Cleopatra alongside Mike Myers in the comedy film, Austin Powers in Goldmember, which spent its first weekend atop the US box office and grossed $73 million. Beyonce released \"Work It Out\" as the lead single from its soundtrack album which entered the top ten in the UK, Norway, and Belgium. In 2003, Beyonce starred opposite Cuba Gooding, Jr., in a musical comedy as Lilly, a single mother whom Gooding\\'s character falls in love with. The film received mixed reviews from critics but grossed $30 million in the U.S. Beyonce released \"Fighting Temptation\" as the lead single from the film\\'s soundtrack album, with Missy Elliott, MC Lyte, and Free which was also used to promote the film. Another of Beyonce\\'s contributions to the soundtrack, \"Summertime\", fared better on the US charts.',\n",
       " '\\n\\nQuestion: ',\n",
       " 'What movie did Beyonce star in in 2003?',\n",
       " '\\n\\nAnswer: ']"
      ]
     },
     "execution_count": 10,
     "metadata": {},
     "output_type": "execute_result"
    }
   ],
   "source": [
    "prompt = [\"Context: \", context, \"\\n\\nQuestion: \", question, \"\\n\\nAnswer: \"]\n",
    "prompt"
   ]
  },
  {
   "cell_type": "markdown",
   "id": "4f79f3c8-cd69-441e-9e4d-2ec79c7edff6",
   "metadata": {},
   "source": [
    "### Generate model response"
   ]
  },
  {
   "cell_type": "markdown",
   "id": "c22aecf3-2384-44a0-b30d-11dcba3dfd44",
   "metadata": {},
   "source": [
    "As a check on our setup, we will have the model answer the question based on the document, via the `wrapped_model` object created above."
   ]
  },
  {
   "cell_type": "markdown",
   "id": "8c68804f-d23f-496d-a3b9-6e11b578aa75",
   "metadata": {},
   "source": [
    "First we specify parameters for model generation, as a dictionary `model_params`. These parameters include `max_new_tokens`/`max_tokens`, whether to use the model's chat template, and any instruction provided as a system prompt (the Flan-T5 model does not need an instruction to answer the question based on the context)."
   ]
  },
  {
   "cell_type": "code",
   "execution_count": 11,
   "id": "57d54855-4677-4788-beb3-082c219132de",
   "metadata": {},
   "outputs": [
    {
     "data": {
      "text/plain": [
       "{'max_new_tokens': 64}"
      ]
     },
     "execution_count": 11,
     "metadata": {},
     "output_type": "execute_result"
    }
   ],
   "source": [
    "model_params = {}\n",
    "if model_type == \"vllm\":\n",
    "    model_params[\"max_tokens\"] = 64\n",
    "    model_params[\"seed\"] = 20250430\n",
    "else:\n",
    "    model_params[\"max_new_tokens\"] = 64\n",
    "    \n",
    "if model_type in (\"granite-hf\", \"vllm\"):\n",
    "    model_params[\"chat_template\"] = True\n",
    "    model_params[\"system_prompt\"] = \"Please answer the question using only the provided context.\"\n",
    "\n",
    "model_params"
   ]
  },
  {
   "cell_type": "markdown",
   "id": "f66e8a08-710d-4f00-a96e-256e3c0850ed",
   "metadata": {},
   "source": [
    "Now we generate the response:"
   ]
  },
  {
   "cell_type": "code",
   "execution_count": 12,
   "id": "46297d17-7079-41b8-a04b-8445fbf32e24",
   "metadata": {},
   "outputs": [
    {
     "name": "stdout",
     "output_type": "stream",
     "text": [
      "['musical comedy']\n"
     ]
    }
   ],
   "source": [
    "output_orig = wrapped_model.generate(\"\".join(prompt), **model_params)\n",
    "print(output_orig)"
   ]
  },
  {
   "cell_type": "markdown",
   "id": "136863aa-ffbc-4ef1-89fb-69c427b37e2f",
   "metadata": {},
   "source": [
    "The LLM might hallucinate the name of the movie, or it might seemingly remember that the name is \"The Fighting Temptations,\" but it may substitute \"Fighting Temptation\" (singular), which is the song mentioned in a later sentence."
   ]
  },
  {
   "cell_type": "markdown",
   "id": "51147aef-ea97-4fb9-b1ca-b41f4198654f",
   "metadata": {},
   "source": [
    "## 2. Sentence-Level Explanation"
   ]
  },
  {
   "cell_type": "markdown",
   "id": "2c912920-feb3-4e5b-a23f-9ce8315af6ef",
   "metadata": {},
   "source": [
    "### Instantiate explainer"
   ]
  },
  {
   "cell_type": "markdown",
   "id": "eabaacb7-014a-4812-acf3-926ab10e62fe",
   "metadata": {},
   "source": [
    "Here you can choose between two attribution algorithms used by MExGen, C-LIME and L-SHAP. These are more efficient variants of LIME and SHAP respectively. In either case, the explanation takes the form of importance scores assigned to parts of the context document, and these scores are computed by calling the LLM on perturbed versions of the input. "
   ]
  },
  {
   "cell_type": "code",
   "execution_count": 13,
   "id": "66448a8a-1783-4f94-9b4a-37a6759fe11c",
   "metadata": {},
   "outputs": [],
   "source": [
    "# explainer_alg = \"clime\"\n",
    "explainer_alg = \"lshap\"\n",
    "\n",
    "if explainer_alg == \"clime\":\n",
    "    explainer_class = CLIME\n",
    "elif explainer_alg == \"lshap\":\n",
    "    explainer_class = LSHAP"
   ]
  },
  {
   "cell_type": "markdown",
   "id": "c3f06fc0-6b7a-43cc-8509-139fb1107db8",
   "metadata": {},
   "source": [
    "We instantiate the explainer with a \"scalarizer\", which quantifies the effect that perturbed inputs have on the output of the model compared to its response to the original input. Here we use the `\"prob\"` scalarizer, which computes the probability of generating the original response conditioned on perturbed inputs."
   ]
  },
  {
   "cell_type": "code",
   "execution_count": 14,
   "id": "e670ea22-4a21-4fd8-8959-3393cf151db3",
   "metadata": {},
   "outputs": [],
   "source": [
    "explainer = explainer_class(wrapped_model, scalarizer=\"prob\")"
   ]
  },
  {
   "cell_type": "markdown",
   "id": "26869e08-aaad-4e81-8d50-81a404f9beba",
   "metadata": {},
   "source": [
    "### Call explainer"
   ]
  },
  {
   "cell_type": "markdown",
   "id": "bf50e186-0788-4d93-a5ea-243c5869ee85",
   "metadata": {},
   "source": [
    "We call the explainer's `explain_instance` method with the following parameters:\n",
    "- `prompt`: Recall that this is a list of 5 prompt elements (\"units\")\n",
    "- `unit_types`: Also a list of length 5. We set the type corresponding to the document to `\"p\"` (\"paragraph\") and the type of other units to `\"n\"` (\"not of interest\"), which will cause the explainer to attribute only to the document.\n",
    "- `ind_segment`: Also a list of length 5. We set `ind_segment[1] = True` and `False` otherwise. This will segment the document into sentences and compute an importance score for each sentence.\n",
    "- `segment_type = \"s\"` for segmentation into sentences\n",
    "- `model_params`: The desired model generation parameters from above"
   ]
  },
  {
   "cell_type": "code",
   "execution_count": 15,
   "id": "875210b1-c9be-4ffc-bcf4-c80ab722b72a",
   "metadata": {},
   "outputs": [],
   "source": [
    "unit_types = [\"n\", \"p\", \"n\", \"n\", \"n\"]\n",
    "ind_segment = [False, True, False, False, False]\n",
    "segment_type = \"s\""
   ]
  },
  {
   "cell_type": "code",
   "execution_count": 16,
   "id": "b995db36-e174-4599-b810-38995ced7bde",
   "metadata": {},
   "outputs": [
    {
     "name": "stderr",
     "output_type": "stream",
     "text": [
      "Passing a tuple of `past_key_values` is deprecated and will be removed in Transformers v4.48.0. You should pass an instance of `EncoderDecoderCache` instead, e.g. `past_key_values=EncoderDecoderCache.from_legacy_cache(past_key_values)`.\n"
     ]
    },
    {
     "name": "stdout",
     "output_type": "stream",
     "text": [
      "toma_get_probs batch size = 33\n"
     ]
    }
   ],
   "source": [
    "output_dict_sent = explainer.explain_instance(prompt, unit_types, ind_segment=ind_segment, segment_type=segment_type, model_params=model_params)"
   ]
  },
  {
   "cell_type": "markdown",
   "id": "8d384673-f9e8-4be8-b1f1-5f8c4d3389dc",
   "metadata": {},
   "source": [
    "### Look at output"
   ]
  },
  {
   "cell_type": "markdown",
   "id": "e0330b59-fbbb-4fb3-b50f-9694bef1da4e",
   "metadata": {},
   "source": [
    "The explainer returns a dictionary. The `\"output_orig\"` item shows the response for the original input."
   ]
  },
  {
   "cell_type": "code",
   "execution_count": 17,
   "id": "97f6d33b-3f4d-4127-859a-268ebebd73d9",
   "metadata": {},
   "outputs": [
    {
     "data": {
      "text/plain": [
       "['musical comedy']"
      ]
     },
     "execution_count": 17,
     "metadata": {},
     "output_type": "execute_result"
    }
   ],
   "source": [
    "output_dict_sent[\"output_orig\"].output_text"
   ]
  },
  {
   "cell_type": "markdown",
   "id": "92f297ab-f546-4880-a0a7-b81aacbe6802",
   "metadata": {},
   "source": [
    "The `\"attributions\"` item is itself a dictionary, containing the sentences that the document has been split into along with the four original units (`\"units\"`), the corresponding `\"unit_types\"`, and the importance scores for the sentences, computed according to the `\"prob\"` scalarizer. These are displayed below as a pandas DataFrame."
   ]
  },
  {
   "cell_type": "code",
   "execution_count": 18,
   "id": "2fa24dc7-7bc3-4b88-9e94-76dde161d448",
   "metadata": {},
   "outputs": [
    {
     "data": {
      "text/html": [
       "<div>\n",
       "<style scoped>\n",
       "    .dataframe tbody tr th:only-of-type {\n",
       "        vertical-align: middle;\n",
       "    }\n",
       "\n",
       "    .dataframe tbody tr th {\n",
       "        vertical-align: top;\n",
       "    }\n",
       "\n",
       "    .dataframe thead th {\n",
       "        text-align: right;\n",
       "    }\n",
       "</style>\n",
       "<table border=\"1\" class=\"dataframe\">\n",
       "  <thead>\n",
       "    <tr style=\"text-align: right;\">\n",
       "      <th></th>\n",
       "      <th>unit_types</th>\n",
       "      <th>prob</th>\n",
       "    </tr>\n",
       "    <tr>\n",
       "      <th>units</th>\n",
       "      <th></th>\n",
       "      <th></th>\n",
       "    </tr>\n",
       "  </thead>\n",
       "  <tbody>\n",
       "    <tr>\n",
       "      <th>Context:</th>\n",
       "      <td>n</td>\n",
       "      <td>0.000000</td>\n",
       "    </tr>\n",
       "    <tr>\n",
       "      <th>In July 2002, Beyonce continued her acting career playing Foxxy Cleopatra alongside Mike Myers in the comedy film, Austin Powers in Goldmember, which spent its first weekend atop the US box office and grossed $73 million.</th>\n",
       "      <td>s</td>\n",
       "      <td>-0.303321</td>\n",
       "    </tr>\n",
       "    <tr>\n",
       "      <th>Beyonce released \"Work It Out\" as the lead single from its soundtrack album which entered the top ten in the UK, Norway, and Belgium.</th>\n",
       "      <td>s</td>\n",
       "      <td>-0.090525</td>\n",
       "    </tr>\n",
       "    <tr>\n",
       "      <th>In 2003, Beyonce starred opposite Cuba Gooding, Jr., in a musical comedy as Lilly, a single mother whom Gooding's character falls in love with.</th>\n",
       "      <td>s</td>\n",
       "      <td>5.442492</td>\n",
       "    </tr>\n",
       "    <tr>\n",
       "      <th>The film received mixed reviews from critics but grossed $30 million in the U.S.</th>\n",
       "      <td>s</td>\n",
       "      <td>0.024841</td>\n",
       "    </tr>\n",
       "    <tr>\n",
       "      <th>Beyonce released \"Fighting Temptation\" as the lead single from the film's soundtrack album, with Missy Elliott, MC Lyte, and Free which was also used to promote the film.</th>\n",
       "      <td>s</td>\n",
       "      <td>0.030438</td>\n",
       "    </tr>\n",
       "    <tr>\n",
       "      <th>Another of Beyonce's contributions to the soundtrack, \"Summertime\", fared better on the US charts.</th>\n",
       "      <td>s</td>\n",
       "      <td>0.049272</td>\n",
       "    </tr>\n",
       "    <tr>\n",
       "      <th>\\n\\nQuestion:</th>\n",
       "      <td>n</td>\n",
       "      <td>0.000000</td>\n",
       "    </tr>\n",
       "    <tr>\n",
       "      <th>What movie did Beyonce star in in 2003?</th>\n",
       "      <td>n</td>\n",
       "      <td>0.000000</td>\n",
       "    </tr>\n",
       "    <tr>\n",
       "      <th>\\n\\nAnswer:</th>\n",
       "      <td>n</td>\n",
       "      <td>0.000000</td>\n",
       "    </tr>\n",
       "  </tbody>\n",
       "</table>\n",
       "</div>"
      ],
      "text/plain": [
       "                                                   unit_types      prob\n",
       "units                                                                  \n",
       "Context:                                                    n  0.000000\n",
       "In July 2002, Beyonce continued her acting care...          s -0.303321\n",
       "Beyonce released \"Work It Out\" as the lead sing...          s -0.090525\n",
       "In 2003, Beyonce starred opposite Cuba Gooding,...          s  5.442492\n",
       "The film received mixed reviews from critics bu...          s  0.024841\n",
       "Beyonce released \"Fighting Temptation\" as the l...          s  0.030438\n",
       "Another of Beyonce's contributions to the sound...          s  0.049272\n",
       "\\n\\nQuestion:                                               n  0.000000\n",
       "What movie did Beyonce star in in 2003?                     n  0.000000\n",
       "\\n\\nAnswer:                                                 n  0.000000"
      ]
     },
     "execution_count": 18,
     "metadata": {},
     "output_type": "execute_result"
    }
   ],
   "source": [
    "pd.DataFrame(output_dict_sent[\"attributions\"]).set_index(\"units\")[[\"unit_types\", \"prob\"]]"
   ]
  },
  {
   "cell_type": "markdown",
   "id": "fc7a7428-948c-41d8-923e-ab18c81d51f7",
   "metadata": {},
   "source": [
    "## 3. Mixed Phrase- and Sentence-Level Explanation"
   ]
  },
  {
   "cell_type": "markdown",
   "id": "ed41fcd9-31e2-42fe-896e-20c96b56ff46",
   "metadata": {},
   "source": [
    "We will now consider the multi-level aspect of MExGen by obtaining mixed word- and sentence-level attributions to the context document."
   ]
  },
  {
   "cell_type": "markdown",
   "id": "8f0e674e-299a-40d2-ac46-8142c30f5d4d",
   "metadata": {},
   "source": [
    "### Set up parameters"
   ]
  },
  {
   "cell_type": "markdown",
   "id": "b8631bac-4e28-4b96-bea6-dff69a8003c2",
   "metadata": {},
   "source": [
    "For this illustration, we will segment the most important sentence (as determined in the previous section) into words. (The number of top sentences can be changed.)"
   ]
  },
  {
   "cell_type": "code",
   "execution_count": 19,
   "id": "1277194a-8d37-43b9-bcb1-fa688544c174",
   "metadata": {},
   "outputs": [],
   "source": [
    "num_top_sent = 1"
   ]
  },
  {
   "cell_type": "markdown",
   "id": "bc8e3e6d-b540-4fd9-a4a1-05d76df2f487",
   "metadata": {},
   "source": [
    "The parameters for `explain_instance()` will be as follows:\n",
    "- `units` and `unit_types`: Take existing sentence-level units and unit types from `output_dict_sent[\"attributions\"]`\n",
    "- `ind_segment`: We create a Boolean array that has value `True` in the position corresponding to the top sentence and `False` otherwise. This will tell the explainer to segment only the top sentence.\n",
    "- `segment_type = \"w\"` for segmentation into words\n",
    "- `model_params` as before"
   ]
  },
  {
   "cell_type": "code",
   "execution_count": 20,
   "id": "8081f2d7-43af-4221-80c0-fe1ce59a002a",
   "metadata": {},
   "outputs": [
    {
     "data": {
      "text/plain": [
       "array([False, False, False,  True, False, False, False, False, False,\n",
       "       False])"
      ]
     },
     "execution_count": 20,
     "metadata": {},
     "output_type": "execute_result"
    }
   ],
   "source": [
    "units = output_dict_sent[\"attributions\"][\"units\"]\n",
    "unit_types = output_dict_sent[\"attributions\"][\"unit_types\"]\n",
    "segment_type = \"w\"\n",
    "\n",
    "ind_segment = np.zeros_like(output_dict_sent[\"attributions\"][\"prob\"], dtype=bool)\n",
    "ind_segment[np.argsort(output_dict_sent[\"attributions\"][\"prob\"])[-num_top_sent:]] = True\n",
    "ind_segment"
   ]
  },
  {
   "cell_type": "markdown",
   "id": "37ab8579-3492-46a9-8442-41936e527dfa",
   "metadata": {},
   "source": [
    "### Call explainer"
   ]
  },
  {
   "cell_type": "markdown",
   "id": "9c1dbc46-d46e-4364-88a6-07794cdcd99a",
   "metadata": {},
   "source": [
    "Now we call `explain_instance()` with the above parameters"
   ]
  },
  {
   "cell_type": "code",
   "execution_count": 21,
   "id": "de98a7b3-1f7f-4b53-9741-50528c4fe1a1",
   "metadata": {},
   "outputs": [
    {
     "name": "stdout",
     "output_type": "stream",
     "text": [
      "toma_get_probs batch size = 249\n"
     ]
    }
   ],
   "source": [
    "output_dict_mixed = explainer.explain_instance(units, unit_types, ind_segment=ind_segment, segment_type=segment_type, model_params=model_params)"
   ]
  },
  {
   "cell_type": "markdown",
   "id": "3b839015-8abe-468e-8987-eb32247893ee",
   "metadata": {},
   "source": [
    "### Look at output"
   ]
  },
  {
   "cell_type": "markdown",
   "id": "3f1d200b-95b9-4a90-bdbc-a086c80b86da",
   "metadata": {},
   "source": [
    "Response for the original input"
   ]
  },
  {
   "cell_type": "code",
   "execution_count": 22,
   "id": "04a6efba-5ad4-4fb5-9e7c-280e199f346e",
   "metadata": {},
   "outputs": [
    {
     "data": {
      "text/plain": [
       "['musical comedy']"
      ]
     },
     "execution_count": 22,
     "metadata": {},
     "output_type": "execute_result"
    }
   ],
   "source": [
    "output_dict_mixed[\"output_orig\"].output_text"
   ]
  },
  {
   "cell_type": "markdown",
   "id": "bffa0dfa-d386-4feb-a90f-285699cbe892",
   "metadata": {},
   "source": [
    "Mixed word- and sentence-level importance scores according to the `\"prob\"` scalarizer:"
   ]
  },
  {
   "cell_type": "code",
   "execution_count": 23,
   "id": "79240cb3-06a7-4b6b-b31c-bebe5ceb06ce",
   "metadata": {},
   "outputs": [
    {
     "data": {
      "text/html": [
       "<div>\n",
       "<style scoped>\n",
       "    .dataframe tbody tr th:only-of-type {\n",
       "        vertical-align: middle;\n",
       "    }\n",
       "\n",
       "    .dataframe tbody tr th {\n",
       "        vertical-align: top;\n",
       "    }\n",
       "\n",
       "    .dataframe thead th {\n",
       "        text-align: right;\n",
       "    }\n",
       "</style>\n",
       "<table border=\"1\" class=\"dataframe\">\n",
       "  <thead>\n",
       "    <tr style=\"text-align: right;\">\n",
       "      <th></th>\n",
       "      <th>unit_types</th>\n",
       "      <th>prob</th>\n",
       "    </tr>\n",
       "    <tr>\n",
       "      <th>units</th>\n",
       "      <th></th>\n",
       "      <th></th>\n",
       "    </tr>\n",
       "  </thead>\n",
       "  <tbody>\n",
       "    <tr>\n",
       "      <th>Context:</th>\n",
       "      <td>n</td>\n",
       "      <td>0.000000</td>\n",
       "    </tr>\n",
       "    <tr>\n",
       "      <th>In July 2002, Beyonce continued her acting career playing Foxxy Cleopatra alongside Mike Myers in the comedy film, Austin Powers in Goldmember, which spent its first weekend atop the US box office and grossed $73 million.</th>\n",
       "      <td>s</td>\n",
       "      <td>-0.030021</td>\n",
       "    </tr>\n",
       "    <tr>\n",
       "      <th>Beyonce released \"Work It Out\" as the lead single from its soundtrack album which entered the top ten in the UK, Norway, and Belgium.</th>\n",
       "      <td>s</td>\n",
       "      <td>0.085883</td>\n",
       "    </tr>\n",
       "    <tr>\n",
       "      <th>In</th>\n",
       "      <td>w</td>\n",
       "      <td>0.091946</td>\n",
       "    </tr>\n",
       "    <tr>\n",
       "      <th>2003</th>\n",
       "      <td>w</td>\n",
       "      <td>1.777418</td>\n",
       "    </tr>\n",
       "    <tr>\n",
       "      <th>,</th>\n",
       "      <td>n</td>\n",
       "      <td>0.000000</td>\n",
       "    </tr>\n",
       "    <tr>\n",
       "      <th>Beyonce</th>\n",
       "      <td>w</td>\n",
       "      <td>0.143749</td>\n",
       "    </tr>\n",
       "    <tr>\n",
       "      <th>starred</th>\n",
       "      <td>w</td>\n",
       "      <td>0.203287</td>\n",
       "    </tr>\n",
       "    <tr>\n",
       "      <th>opposite</th>\n",
       "      <td>w</td>\n",
       "      <td>0.015318</td>\n",
       "    </tr>\n",
       "    <tr>\n",
       "      <th>Cuba</th>\n",
       "      <td>w</td>\n",
       "      <td>0.023138</td>\n",
       "    </tr>\n",
       "    <tr>\n",
       "      <th>Gooding</th>\n",
       "      <td>w</td>\n",
       "      <td>0.310289</td>\n",
       "    </tr>\n",
       "    <tr>\n",
       "      <th>,</th>\n",
       "      <td>n</td>\n",
       "      <td>0.000000</td>\n",
       "    </tr>\n",
       "    <tr>\n",
       "      <th>Jr.</th>\n",
       "      <td>w</td>\n",
       "      <td>0.025616</td>\n",
       "    </tr>\n",
       "    <tr>\n",
       "      <th>,</th>\n",
       "      <td>n</td>\n",
       "      <td>0.000000</td>\n",
       "    </tr>\n",
       "    <tr>\n",
       "      <th>in</th>\n",
       "      <td>w</td>\n",
       "      <td>0.034352</td>\n",
       "    </tr>\n",
       "    <tr>\n",
       "      <th>a</th>\n",
       "      <td>w</td>\n",
       "      <td>0.021783</td>\n",
       "    </tr>\n",
       "    <tr>\n",
       "      <th>musical</th>\n",
       "      <td>w</td>\n",
       "      <td>2.658460</td>\n",
       "    </tr>\n",
       "    <tr>\n",
       "      <th>comedy</th>\n",
       "      <td>w</td>\n",
       "      <td>3.001379</td>\n",
       "    </tr>\n",
       "    <tr>\n",
       "      <th>as</th>\n",
       "      <td>w</td>\n",
       "      <td>1.735643</td>\n",
       "    </tr>\n",
       "    <tr>\n",
       "      <th>Lilly</th>\n",
       "      <td>w</td>\n",
       "      <td>-0.632696</td>\n",
       "    </tr>\n",
       "    <tr>\n",
       "      <th>,</th>\n",
       "      <td>n</td>\n",
       "      <td>0.000000</td>\n",
       "    </tr>\n",
       "    <tr>\n",
       "      <th>a</th>\n",
       "      <td>w</td>\n",
       "      <td>-0.069837</td>\n",
       "    </tr>\n",
       "    <tr>\n",
       "      <th>single</th>\n",
       "      <td>w</td>\n",
       "      <td>-0.020159</td>\n",
       "    </tr>\n",
       "    <tr>\n",
       "      <th>mother</th>\n",
       "      <td>w</td>\n",
       "      <td>0.060091</td>\n",
       "    </tr>\n",
       "    <tr>\n",
       "      <th>whom</th>\n",
       "      <td>w</td>\n",
       "      <td>0.016289</td>\n",
       "    </tr>\n",
       "    <tr>\n",
       "      <th>Gooding</th>\n",
       "      <td>w</td>\n",
       "      <td>0.010448</td>\n",
       "    </tr>\n",
       "    <tr>\n",
       "      <th>'s</th>\n",
       "      <td>w</td>\n",
       "      <td>0.017195</td>\n",
       "    </tr>\n",
       "    <tr>\n",
       "      <th>character</th>\n",
       "      <td>w</td>\n",
       "      <td>-0.010148</td>\n",
       "    </tr>\n",
       "    <tr>\n",
       "      <th>falls</th>\n",
       "      <td>w</td>\n",
       "      <td>-0.004816</td>\n",
       "    </tr>\n",
       "    <tr>\n",
       "      <th>in</th>\n",
       "      <td>w</td>\n",
       "      <td>-0.005142</td>\n",
       "    </tr>\n",
       "    <tr>\n",
       "      <th>love</th>\n",
       "      <td>w</td>\n",
       "      <td>0.009327</td>\n",
       "    </tr>\n",
       "    <tr>\n",
       "      <th>with</th>\n",
       "      <td>w</td>\n",
       "      <td>-0.004349</td>\n",
       "    </tr>\n",
       "    <tr>\n",
       "      <th>.</th>\n",
       "      <td>n</td>\n",
       "      <td>0.000000</td>\n",
       "    </tr>\n",
       "    <tr>\n",
       "      <th>The film received mixed reviews from critics but grossed $30 million in the U.S.</th>\n",
       "      <td>s</td>\n",
       "      <td>-0.005575</td>\n",
       "    </tr>\n",
       "    <tr>\n",
       "      <th>Beyonce released \"Fighting Temptation\" as the lead single from the film's soundtrack album, with Missy Elliott, MC Lyte, and Free which was also used to promote the film.</th>\n",
       "      <td>s</td>\n",
       "      <td>0.037958</td>\n",
       "    </tr>\n",
       "    <tr>\n",
       "      <th>Another of Beyonce's contributions to the soundtrack, \"Summertime\", fared better on the US charts.</th>\n",
       "      <td>s</td>\n",
       "      <td>0.083051</td>\n",
       "    </tr>\n",
       "    <tr>\n",
       "      <th>\\n\\nQuestion:</th>\n",
       "      <td>n</td>\n",
       "      <td>0.000000</td>\n",
       "    </tr>\n",
       "    <tr>\n",
       "      <th>What movie did Beyonce star in in 2003?</th>\n",
       "      <td>n</td>\n",
       "      <td>0.000000</td>\n",
       "    </tr>\n",
       "    <tr>\n",
       "      <th>\\n\\nAnswer:</th>\n",
       "      <td>n</td>\n",
       "      <td>0.000000</td>\n",
       "    </tr>\n",
       "  </tbody>\n",
       "</table>\n",
       "</div>"
      ],
      "text/plain": [
       "                                                   unit_types      prob\n",
       "units                                                                  \n",
       "Context:                                                    n  0.000000\n",
       "In July 2002, Beyonce continued her acting care...          s -0.030021\n",
       "Beyonce released \"Work It Out\" as the lead sing...          s  0.085883\n",
       "In                                                          w  0.091946\n",
       "2003                                                        w  1.777418\n",
       ",                                                           n  0.000000\n",
       "Beyonce                                                     w  0.143749\n",
       "starred                                                     w  0.203287\n",
       "opposite                                                    w  0.015318\n",
       "Cuba                                                        w  0.023138\n",
       "Gooding                                                     w  0.310289\n",
       ",                                                           n  0.000000\n",
       "Jr.                                                         w  0.025616\n",
       ",                                                           n  0.000000\n",
       "in                                                          w  0.034352\n",
       "a                                                           w  0.021783\n",
       "musical                                                     w  2.658460\n",
       "comedy                                                      w  3.001379\n",
       "as                                                          w  1.735643\n",
       "Lilly                                                       w -0.632696\n",
       ",                                                           n  0.000000\n",
       "a                                                           w -0.069837\n",
       "single                                                      w -0.020159\n",
       "mother                                                      w  0.060091\n",
       "whom                                                        w  0.016289\n",
       "Gooding                                                     w  0.010448\n",
       "'s                                                          w  0.017195\n",
       "character                                                   w -0.010148\n",
       "falls                                                       w -0.004816\n",
       "in                                                          w -0.005142\n",
       "love                                                        w  0.009327\n",
       "with                                                        w -0.004349\n",
       ".                                                           n  0.000000\n",
       "The film received mixed reviews from critics bu...          s -0.005575\n",
       "Beyonce released \"Fighting Temptation\" as the l...          s  0.037958\n",
       "Another of Beyonce's contributions to the sound...          s  0.083051\n",
       "\\n\\nQuestion:                                               n  0.000000\n",
       "What movie did Beyonce star in in 2003?                     n  0.000000\n",
       "\\n\\nAnswer:                                                 n  0.000000"
      ]
     },
     "execution_count": 23,
     "metadata": {},
     "output_type": "execute_result"
    }
   ],
   "source": [
    "pd.DataFrame(output_dict_mixed[\"attributions\"]).set_index(\"units\")[[\"unit_types\", \"prob\"]]"
   ]
  },
  {
   "cell_type": "markdown",
   "id": "f41ec6aa-843f-4286-b8b0-08883bb793a7",
   "metadata": {},
   "source": [
    "## 4. Evaluate fidelity of attributions to explained model"
   ]
  },
  {
   "cell_type": "markdown",
   "id": "a6892d3d-a1df-4fb7-81b5-5509bd57fed9",
   "metadata": {},
   "source": [
    "We now evaluate the fidelity of both the sentence-level and mixed-level explanations to the behavior of the LLM. We do this by computing *perturbation curves*. Given a set of attribution scores, the perturbation curve measures how much the LLM's response changes as we remove more and more units from the input, in decreasing order of importance according to the scores."
   ]
  },
  {
   "cell_type": "markdown",
   "id": "0dac8989-eaaa-4ef9-9ea9-ae28c7c8597f",
   "metadata": {},
   "source": [
    "### Instantiate perturbation curve evaluator"
   ]
  },
  {
   "cell_type": "markdown",
   "id": "16fd4e33-d783-45e7-a909-93d35161eb4e",
   "metadata": {},
   "source": [
    "We instantiate a `PerturbCurveEvaluator` to compute perturbation curves. Similar to the explainer, `PerturbCurveEvaluator` requires a scalarizer to quantify how much the response changes from the original response as more input units are removed. Here we use the same `\"prob\"` scalarizer as the explainer."
   ]
  },
  {
   "cell_type": "code",
   "execution_count": 24,
   "id": "6a33894f-5b64-444d-915b-a64432dcf647",
   "metadata": {},
   "outputs": [],
   "source": [
    "evaluator = PerturbCurveEvaluator(wrapped_model, scalarizer=\"prob\")"
   ]
  },
  {
   "cell_type": "markdown",
   "id": "79ad9f21-e3d8-4e87-bf6e-3d2ad8becd54",
   "metadata": {},
   "source": [
    "### Evaluate perturbation curves"
   ]
  },
  {
   "cell_type": "markdown",
   "id": "33f9531a-0df4-4b12-904f-7ca95b0b4c1d",
   "metadata": {},
   "source": [
    "We call the `eval_perturb_curve` method to compute perturbation curves for both sentence-level and mixed-level attribution scores. Parameters for `eval_perturb_curve` are as follows:\n",
    "- `output_dict_sent` or `output_dict_mixed`: The dictionary returned by the explainer\n",
    "- `\"prob\"`: The score label in `output_dict[\"attributions\"]`\n",
    "- `token_frac=True`: This setting allows comparison between different kinds of units (sentences vs. mixed) because it takes into account the number of tokens in each unit, which is considered as the length of the unit and in ranking units.\n",
    "- `model_params`: The same model generation parameters as before"
   ]
  },
  {
   "cell_type": "code",
   "execution_count": 25,
   "id": "9a0ef9b0-77ec-4bd4-b46b-a4c69973f332",
   "metadata": {},
   "outputs": [
    {
     "name": "stdout",
     "output_type": "stream",
     "text": [
      "toma_get_probs batch size = 5\n"
     ]
    }
   ],
   "source": [
    "perturb_curve_sent = evaluator.eval_perturb_curve(output_dict_sent, \"prob\", token_frac=True, model_params=model_params)\n",
    "perturb_curve_sent = pd.DataFrame(perturb_curve_sent).set_index(\"frac\")"
   ]
  },
  {
   "cell_type": "code",
   "execution_count": 26,
   "id": "05ad7b91-9de6-40a6-a777-16747207eb2a",
   "metadata": {},
   "outputs": [
    {
     "name": "stdout",
     "output_type": "stream",
     "text": [
      "toma_get_probs batch size = 22\n"
     ]
    }
   ],
   "source": [
    "perturb_curve_mixed = evaluator.eval_perturb_curve(output_dict_mixed, \"prob\", token_frac=True, model_params=model_params)\n",
    "perturb_curve_mixed = pd.DataFrame(perturb_curve_mixed).set_index(\"frac\")"
   ]
  },
  {
   "cell_type": "markdown",
   "id": "a63e5528-4060-4ce1-af27-7eb3c956eae4",
   "metadata": {},
   "source": [
    "### Plot perturbation curves"
   ]
  },
  {
   "cell_type": "markdown",
   "id": "1663c1ed-87b4-4f17-80cb-562c52391f0f",
   "metadata": {},
   "source": [
    "The perturbation curves are plotted below as a function of the fraction of tokens removed from the input. The y-axis is the decrease in the log probability of generating the original response, computed by the scalarizer of `PerturbCurveEvaluator`."
   ]
  },
  {
   "cell_type": "code",
   "execution_count": 27,
   "id": "2a3d6537-0b37-4b70-982f-3f21003aa2b8",
   "metadata": {},
   "outputs": [
    {
     "data": {
      "text/plain": [
       "<matplotlib.legend.Legend at 0x14a9663bde90>"
      ]
     },
     "execution_count": 27,
     "metadata": {},
     "output_type": "execute_result"
    },
    {
     "data": {
      "image/png": "[encoded data removed]",
      "text/plain": [
       "<Figure size 640x480 with 1 Axes>"
      ]
     },
     "metadata": {},
     "output_type": "display_data"
    }
   ],
   "source": [
    "plt.plot(perturb_curve_sent.loc[0] - perturb_curve_sent)\n",
    "plt.plot(perturb_curve_mixed.loc[0] - perturb_curve_mixed)\n",
    "plt.xlabel(\"fraction of tokens perturbed\")\n",
    "plt.ylabel(\"decrease in log prob of original output\")\n",
    "plt.legend([\"sentence-level\", \"mixed-level\"])"
   ]
  },
  {
   "cell_type": "markdown",
   "id": "6c970fd0-7ed1-4ed5-b7a9-c40051154d13",
   "metadata": {},
   "source": [
    "In general, we are looking for perturbation curves to increase as more tokens are removed from the input. A higher perturbation curve is better because it indicates that the units identified by the explanation as important actually do have a larger effect on the LLM's output, and hence the explanation is more faithful to the LLM. \n",
    "\n",
    "For this example, the perturbation curve for mixed-level attributions rises more quickly from zero, indicating that mixed-level can identify the most important finer-grained units (i.e., words). However, sentence-level attributions may achieve a slightly larger decrease in log probability at higher perturbed fractions. Your results may vary however."
   ]
  }
 ],
 "metadata": {
  "kernelspec": {
   "display_name": "Python 3 (ipykernel)",
   "language": "python",
   "name": "python3"
  },
  "language_info": {
   "codemirror_mode": {
    "name": "ipython",
    "version": 3
   },
   "file_extension": ".py",
   "mimetype": "text/x-python",
   "name": "python",
   "nbconvert_exporter": "python",
   "pygments_lexer": "ipython3",
   "version": "3.11.13"
  }
 },
 "nbformat": 4,
 "nbformat_minor": 5
}
