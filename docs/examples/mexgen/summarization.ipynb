{
 "cells": [
  {
   "cell_type": "markdown",
   "id": "c6f4d404-3c73-487a-a0d2-f2a2d33390e2",
   "metadata": {},
   "source": [
    "# MExGen for Summarization"
   ]
  },
  {
   "cell_type": "markdown",
   "id": "69f4e228-1353-4b70-bed7-88caba364e22",
   "metadata": {},
   "source": [
    "This notebook walks through an example of using MExGen (Multi-Level Explanations for Generative Language Models) to explain an LLM's summarization of a document.\n",
    "\n",
    "After setting things up in Section 1, we will obtain explanations in the form of sentence-level attributions to the input document in Section 2, followed by mixed phrase- and sentence-level attributions in Section 3. We will then evaluate the fidelity of these explanations to the LLM in Section 4."
   ]
  },
  {
   "cell_type": "markdown",
   "id": "e98000c8-b492-4689-8be4-462893e716dd",
   "metadata": {},
   "source": [
    "## 1. Setup"
   ]
  },
  {
   "cell_type": "markdown",
   "id": "55c61426-198c-4111-9337-3ea37cd0f9be",
   "metadata": {},
   "source": [
    "### Import packages"
   ]
  },
  {
   "cell_type": "markdown",
   "id": "db66438f-b4d3-4e64-bb6e-0fbe0afeb3e6",
   "metadata": {},
   "source": [
    "Standard packages"
   ]
  },
  {
   "cell_type": "code",
   "execution_count": null,
   "id": "d4453f33-4b53-4c38-b80d-198d248955d7",
   "metadata": {},
   "outputs": [],
   "source": [
    "from datasets import load_dataset    # for XSum dataset\n",
    "import matplotlib.pyplot as plt    # for plotting perturbation curves\n",
    "import numpy as np\n",
    "from openai import OpenAI    # for VLLM summarization model\n",
    "import pandas as pd    # only for displaying DataFrames\n",
    "import torch\n",
    "from transformers import AutoModelForCausalLM, AutoTokenizer, BartForConditionalGeneration, BartTokenizerFast    # for HuggingFace summarization models"
   ]
  },
  {
   "cell_type": "markdown",
   "id": "aa3ada4c-0049-4e2b-812e-c421f4072aff",
   "metadata": {},
   "source": [
    "ICX360 classes"
   ]
  },
  {
   "cell_type": "code",
   "execution_count": 2,
   "id": "1e731626-4aa3-4d6b-a52a-f95745217d9a",
   "metadata": {},
   "outputs": [],
   "source": [
    "from icx360.algorithms.mexgen import CLIME, LSHAP    # explainers\n",
    "from icx360.metrics import PerturbCurveEvaluator    # fidelity evaluation\n",
    "from icx360.utils.general_utils import select_device    # set device automatically\n",
    "from icx360.utils.model_wrappers import HFModel, VLLMModel    # model wrappers"
   ]
  },
  {
   "cell_type": "code",
   "execution_count": 3,
   "id": "5b38c840-e4ac-4755-9e1b-b3da4943f39f",
   "metadata": {
    "scrolled": true
   },
   "outputs": [
    {
     "data": {
      "text/plain": [
       "device(type='cuda')"
      ]
     },
     "execution_count": 3,
     "metadata": {},
     "output_type": "execute_result"
    }
   ],
   "source": [
    "device = select_device()\n",
    "device"
   ]
  },
  {
   "cell_type": "markdown",
   "id": "ea89731a-753f-4da9-ab54-c21a7400aeb2",
   "metadata": {},
   "source": [
    "### Load model to explain"
   ]
  },
  {
   "cell_type": "markdown",
   "id": "a62b2cdf-cf52-4a37-ac9c-5b5421111112",
   "metadata": {},
   "source": [
    "Here you can choose from the following models:\n",
    "- `\"distilbart\"`: A small summarization model from HuggingFace\n",
    "- `\"granite-hf\"`: A larger model from HuggingFace\n",
    "- `\"vllm\"`: A model served using VLLM. This is a \"bring your own model\" option, for which you will have to supply the parameters below (`model_name`, `base_url`, `api_key`, and any others)."
   ]
  },
  {
   "cell_type": "code",
   "execution_count": 4,
   "id": "f089c621-1249-440a-ad10-f9fb32f0b10c",
   "metadata": {},
   "outputs": [],
   "source": [
    "model_type = \"distilbart\"\n",
    "# model_type = \"granite-hf\"\n",
    "# model_type = \"vllm\""
   ]
  },
  {
   "cell_type": "code",
   "execution_count": 5,
   "id": "de00c07c-10e9-4be7-8c3e-e30d85edd37f",
   "metadata": {},
   "outputs": [],
   "source": [
    "if model_type == \"distilbart\":\n",
    "    model_name = \"sshleifer/distilbart-xsum-12-6\"\n",
    "    model = BartForConditionalGeneration.from_pretrained(model_name).to(device)\n",
    "    tokenizer = BartTokenizerFast.from_pretrained(model_name, add_prefix_space=True)\n",
    "\n",
    "elif model_type == \"granite-hf\":\n",
    "    model_name = \"ibm-granite/granite-3.3-2b-instruct\"\n",
    "    model = AutoModelForCausalLM.from_pretrained(model_name, torch_dtype=torch.bfloat16).to(device)\n",
    "    tokenizer = AutoTokenizer.from_pretrained(model_name, add_prefix_space=True)\n",
    "\n",
    "elif model_type == \"vllm\":\n",
    "    # IF YOU HAVE A VLLM MODEL, UNCOMMENT AND REPLACE THE FOLLOWING LINES WITH YOUR MODEL'S PARAMETERS\n",
    "    # base_url = \"https://YOUR/MODEL/URL\"\n",
    "    # api_key = YOUR_API_KEY\n",
    "    # openai_kwargs = {}\n",
    "    model = OpenAI(api_key=api_key, base_url=base_url, **openai_kwargs)\n",
    "    # Corresponding HuggingFace tokenizer for applying chat template\n",
    "    # model_name = \"YOUR/MODEL-NAME\"\n",
    "    # tokenizer_kwargs = {}\n",
    "    tokenizer = AutoTokenizer.from_pretrained(model_name, **tokenizer_kwargs)\n",
    "\n",
    "else:\n",
    "    raise ValueError(\"Unknown model type\")"
   ]
  },
  {
   "cell_type": "markdown",
   "id": "316d7234-86a0-4f72-ba70-2491df3c4698",
   "metadata": {},
   "source": [
    "We then wrap the model with a common API (`HFModel` or `VLLMModel`) that the explainer will use."
   ]
  },
  {
   "cell_type": "code",
   "execution_count": 6,
   "id": "58128b17-d6a3-4909-8156-8d1bea26fb4e",
   "metadata": {},
   "outputs": [],
   "source": [
    "if model_type in (\"distilbart\", \"granite-hf\"):\n",
    "    wrapped_model = HFModel(model, tokenizer)\n",
    "elif model_type == \"vllm\":\n",
    "    wrapped_model = VLLMModel(model, model_name, tokenizer)"
   ]
  },
  {
   "cell_type": "markdown",
   "id": "a8d6f3b1-2186-4137-8dfc-04462d48852e",
   "metadata": {},
   "source": [
    "### Load input"
   ]
  },
  {
   "cell_type": "markdown",
   "id": "dbd1f9bf-5ecd-40ac-80e6-dc57b3a6d4b2",
   "metadata": {},
   "source": [
    "Load the Extreme Summarization (XSum) dataset"
   ]
  },
  {
   "cell_type": "code",
   "execution_count": 7,
   "id": "a7fdda1f-b517-4f9f-b07a-b326249b8552",
   "metadata": {},
   "outputs": [],
   "source": [
    "#dataset = load_dataset('xsum', split='train', trust_remote_code=True)\n",
    "dataset = load_dataset('xsum', split='test', trust_remote_code=True)"
   ]
  },
  {
   "cell_type": "markdown",
   "id": "ab8df57e-4fc8-4b6c-96b8-fa7938ca55cb",
   "metadata": {},
   "source": [
    "For this example, we will find a news article about the clothing retailer Inditex. This can be modified to load a different article."
   ]
  },
  {
   "cell_type": "code",
   "execution_count": 8,
   "id": "6929132a-c84b-4b07-976a-d9581b869c4e",
   "metadata": {},
   "outputs": [
    {
     "name": "stdout",
     "output_type": "stream",
     "text": [
      "The world's biggest clothing retailer posted net earnings of €1.26bn (£1.1bn) in the six months to 31 July - up 8% on the same period last year.\n",
      "Sales jumped from €9.4bn to €10.5bn, an increase of 11%.\n",
      "The group's clothes can now be bought online in around 40 countries, it said.\n",
      "Inditex operates eight brands in 90 countries including Pull&Bear, Massimo Dutti and Bershka.\n",
      "How Zara's founder became the richest man in the world - for two days\n",
      "Chairman and chief executive Pablo Isla emphasised the firm's investment in technology, saying the firm had expanded its online stores to 11 new countries in the period.\n",
      "It also launched mobile phone payment in all its Spanish stores, with the objective of \"extending the service to other countries\".\n",
      "This will encompass online apps for all of its brands and a specific app for the whole group called InWallet.\n",
      "Mr Isla said: \"Both our online and bricks-and-mortar stores are seamlessly connected, driven by platforms such as mobile payment, and other technological initiatives that we will continue to develop.\"\n",
      "Tom Gadsby, an analyst at Liberum, said the firm's \"online drive\" was important.\n",
      "\"I expect over the years they may find they don't have to open as many stores to maintain their strong growth rate as the online channel will become increasingly important,\" he said.\n",
      "\"And while Zara is available in many of the territories in which they operate [online], most of their other brands aren't readily available outside Europe online.\n",
      "\"So there is a big opportunity there for them to expand online into new territories.\"\n",
      "The company also said it had benefited from steady economic growth in Spain, where Inditex gets about a fifth of its sales.\n",
      "That country's clothing market grew at an average of 3% in the three-months to the end of July, according to the Spanish statistics agency.\n",
      "All of the group's brands increased their international presence during the period, with 83 new stores opened in 38 countries.\n",
      "In a call with analysts, it said it would open 6-8% of new store space over course of the year.\n",
      "The firm's strong performance sets it apart from European rivals H&M and Next, which have blamed unseasonal weather for below-forecast results this year.\n"
     ]
    }
   ],
   "source": [
    "for document in dataset[\"document\"]:\n",
    "    if \"The world's biggest clothing retailer\" in document:\n",
    "        break\n",
    "print(document)"
   ]
  },
  {
   "cell_type": "markdown",
   "id": "adf0d0ca-5f68-4875-a68b-2f15ff913bec",
   "metadata": {},
   "source": [
    "### Generate model response"
   ]
  },
  {
   "cell_type": "markdown",
   "id": "66293dd5-9f92-4507-b4f2-724dd64fc4d0",
   "metadata": {},
   "source": [
    "As a check on our setup, we will have the model generate its summary of the input document, via the `wrapped_model` object created above."
   ]
  },
  {
   "cell_type": "markdown",
   "id": "d9855e21-2c17-4113-a0f3-090f479ab0ac",
   "metadata": {},
   "source": [
    "First we specify parameters for model generation, as a dictionary `model_params`. These parameters include `max_new_tokens`/`max_tokens`, whether to use the model's chat template, and any instruction provided as a system prompt (the DistilBART model does not need an instruction to summarize)."
   ]
  },
  {
   "cell_type": "code",
   "execution_count": 9,
   "id": "a58dad8b-ec04-442e-a164-bdee4bea1dae",
   "metadata": {},
   "outputs": [
    {
     "data": {
      "text/plain": [
       "{'max_new_tokens': 100}"
      ]
     },
     "execution_count": 9,
     "metadata": {},
     "output_type": "execute_result"
    }
   ],
   "source": [
    "model_params = {}\n",
    "if model_type == \"vllm\":\n",
    "    model_params[\"max_tokens\"] = 100\n",
    "    model_params[\"seed\"] = 20250430\n",
    "else:\n",
    "    model_params[\"max_new_tokens\"] = 100\n",
    "    \n",
    "if model_type in (\"granite-hf\", \"vllm\"):\n",
    "    model_params[\"chat_template\"] = True\n",
    "    model_params[\"system_prompt\"] = \"Summarize the following article in one sentence. Do not preface the summary with anything.\"\n",
    "\n",
    "model_params"
   ]
  },
  {
   "cell_type": "markdown",
   "id": "8c906c80-6d2e-4f04-99fb-ce1a5729b82f",
   "metadata": {},
   "source": [
    "Now we generate the summary:"
   ]
  },
  {
   "cell_type": "code",
   "execution_count": 10,
   "id": "7bfe1889-369f-42e5-a44f-989f85f70170",
   "metadata": {},
   "outputs": [
    {
     "name": "stdout",
     "output_type": "stream",
     "text": [
      "['Inditex, the owner of Zara and Massimo Dutti, has reported a sharp rise in half-year profits as it continues to expand its online presence.']\n"
     ]
    }
   ],
   "source": [
    "output_orig = wrapped_model.generate(document, **model_params)\n",
    "print(output_orig)"
   ]
  },
  {
   "cell_type": "markdown",
   "id": "9bda1b05-a3e6-4815-8c46-d8fab2de0424",
   "metadata": {},
   "source": [
    "## 2. Sentence-Level Explanation"
   ]
  },
  {
   "cell_type": "markdown",
   "id": "bc42a5a4-f068-4c24-8ab6-3e3a1599b8f7",
   "metadata": {},
   "source": [
    "### Instantiate explainer"
   ]
  },
  {
   "cell_type": "markdown",
   "id": "b28647ab-7d71-432b-a63a-d095afd763cc",
   "metadata": {},
   "source": [
    "Here you can choose between two attribution algorithms used by MExGen, C-LIME and L-SHAP. These are more efficient variants of LIME and SHAP respectively. In either case, the explanation takes the form of importance scores assigned to parts of the input document, and these scores are computed by calling the summarization model on perturbed versions of the input. "
   ]
  },
  {
   "cell_type": "code",
   "execution_count": 11,
   "id": "6019438a-2b87-4f8d-9b23-02175858c3ba",
   "metadata": {},
   "outputs": [],
   "source": [
    "# explainer_alg = \"clime\"\n",
    "explainer_alg = \"lshap\"\n",
    "\n",
    "if explainer_alg == \"clime\":\n",
    "    explainer_class = CLIME\n",
    "elif explainer_alg == \"lshap\":\n",
    "    explainer_class = LSHAP"
   ]
  },
  {
   "cell_type": "markdown",
   "id": "e61ae84f-7d8e-47c7-b79d-90694271f7aa",
   "metadata": {},
   "source": [
    "The primary parameter for the explainer is the \"scalarizer\", which quantifies how different are the output summaries for perturbed inputs from the output summary for the original input. For this we will use \"text-only\" scalarizers (`scalarizer=\"text\"`), which compute different similarity scores between the original summary and the perturbed summaries, thus providing different views of what constitutes \"similarity\". Small language models are used to provide these similarity scores. Specifically, we use an NLI model to compute both NLI scores and BERTScores, and a summarization model (same as the DistilBART model above) to compute \"SUMM\" scores and BARTScores."
   ]
  },
  {
   "cell_type": "code",
   "execution_count": 12,
   "id": "67d81d17-1d49-4cb4-9007-e38264213f5a",
   "metadata": {},
   "outputs": [],
   "source": [
    "model_nli_name = \"microsoft/deberta-v2-xxlarge-mnli\"\n",
    "model_summ_name = \"sshleifer/distilbart-xsum-12-6\"\n",
    "\n",
    "explainer = explainer_class(wrapped_model, scalarizer=\"text\", \n",
    "                            model_nli=model_nli_name, model_bert=model_nli_name,\n",
    "                            model_summ=model_summ_name, model_bart=model_summ_name, device=device)"
   ]
  },
  {
   "cell_type": "markdown",
   "id": "dbd00380-90b6-4679-8f55-5a6092b39c46",
   "metadata": {},
   "source": [
    "### Call explainer"
   ]
  },
  {
   "cell_type": "markdown",
   "id": "4e125100-4924-4eb2-a825-5bfea601e23f",
   "metadata": {},
   "source": [
    "We call the explainer's `explain_instance` method on the input document, with the model generation parameters in `model_params` and default settings otherwise. This will segment the document into sentences and attribute an importance score to each sentence."
   ]
  },
  {
   "cell_type": "code",
   "execution_count": 13,
   "id": "f9d2d8d1-0147-445c-b9f5-5a53950a8ba9",
   "metadata": {},
   "outputs": [
    {
     "name": "stdout",
     "output_type": "stream",
     "text": [
      "toma_generate batch size = 132\n"
     ]
    },
    {
     "name": "stderr",
     "output_type": "stream",
     "text": [
      "Asking to truncate to max_length but no maximum length is provided and the model has no predefined maximum length. Default to no truncation.\n"
     ]
    },
    {
     "name": "stdout",
     "output_type": "stream",
     "text": [
      "['Inditex, the owner of Zara and Massimo Dutti, has reported a sharp rise in half-year profits, helped by a surge in sales.']\n",
      "['Inditex, the owner of Zara and Massimo Dutti, has reported a sharp rise in half-year profits, helped by a surge in sales.', 'Inditex, the owner of Zara and Massimo Dutti, has reported a sharp rise in half-year profits.', 'Inditex, the owner of Zara and Massimo Dutti, has reported a sharp rise in half-year profits.', 'Inditex, the owner of chains including Zara, Massimo Dutti and Pull&Bear, has reported a sharp rise in half-year profits.', 'Inditex, the owner of chains including Zara and Pull&Bear, has reported a sharp rise in half-year profits as it continues to expand its online presence.']\n",
      "NLI scalarizer ref->gen\n",
      "toma_call batch size = 132\n",
      "NLI scalarizer gen->ref\n",
      "toma_call batch size = 132\n",
      "summ scalarizer\n"
     ]
    },
    {
     "name": "stderr",
     "output_type": "stream",
     "text": [
      "Passing a tuple of `past_key_values` is deprecated and will be removed in Transformers v4.58.0. You should pass an instance of `EncoderDecoderCache` instead, e.g. `past_key_values=EncoderDecoderCache.from_legacy_cache(past_key_values)`.\n"
     ]
    },
    {
     "name": "stdout",
     "output_type": "stream",
     "text": [
      "toma_get_probs batch size = 132\n"
     ]
    }
   ],
   "source": [
    "output_dict_sent = explainer.explain_instance(document, model_params=model_params)"
   ]
  },
  {
   "cell_type": "markdown",
   "id": "8d284c03-79ba-4b11-b0b8-ed1e16436a4a",
   "metadata": {},
   "source": [
    "### Look at output"
   ]
  },
  {
   "cell_type": "markdown",
   "id": "b4596ddf-fec0-46b0-924a-37ed5d1a6100",
   "metadata": {},
   "source": [
    "The explainer returns a dictionary. The `\"output_orig\"` item shows the output summary for the original document."
   ]
  },
  {
   "cell_type": "code",
   "execution_count": 14,
   "id": "6a8fc5d3-1d78-4598-a0b4-854e27c14350",
   "metadata": {},
   "outputs": [
    {
     "data": {
      "text/plain": [
       "['Inditex, the owner of Zara and Massimo Dutti, has reported a sharp rise in half-year profits, helped by a surge in sales.']"
      ]
     },
     "execution_count": 14,
     "metadata": {},
     "output_type": "execute_result"
    }
   ],
   "source": [
    "output_dict_sent[\"output_orig\"].output_text"
   ]
  },
  {
   "cell_type": "markdown",
   "id": "e5ee1221-28ae-45e2-96b6-ec1554383111",
   "metadata": {},
   "source": [
    "The `\"attributions\"` item is itself a dictionary, containing the sentences (`\"units\"`) that the document has been split into, the corresponding `\"unit_types\"`, and the importance scores for the sentences, one score for each similarity metric included in the scalarizer (NLI, BERTScore, etc.). These are displayed below as a pandas DataFrame, where we also normalize each column of scores by the maximum score."
   ]
  },
  {
   "cell_type": "code",
   "execution_count": 15,
   "id": "69ae663f-b77a-4fdc-8be5-12cc54e3b7ba",
   "metadata": {},
   "outputs": [
    {
     "data": {
      "text/html": [
       "<div>\n",
       "<style scoped>\n",
       "    .dataframe tbody tr th:only-of-type {\n",
       "        vertical-align: middle;\n",
       "    }\n",
       "\n",
       "    .dataframe tbody tr th {\n",
       "        vertical-align: top;\n",
       "    }\n",
       "\n",
       "    .dataframe thead th {\n",
       "        text-align: right;\n",
       "    }\n",
       "</style>\n",
       "<table border=\"1\" class=\"dataframe\">\n",
       "  <thead>\n",
       "    <tr style=\"text-align: right;\">\n",
       "      <th></th>\n",
       "      <th>unit_types</th>\n",
       "      <th>nli_logit</th>\n",
       "      <th>bert</th>\n",
       "      <th>st</th>\n",
       "      <th>summ</th>\n",
       "      <th>bart</th>\n",
       "    </tr>\n",
       "    <tr>\n",
       "      <th>units</th>\n",
       "      <th></th>\n",
       "      <th></th>\n",
       "      <th></th>\n",
       "      <th></th>\n",
       "      <th></th>\n",
       "      <th></th>\n",
       "    </tr>\n",
       "  </thead>\n",
       "  <tbody>\n",
       "    <tr>\n",
       "      <th>The world's biggest clothing retailer posted net earnings of €1.26bn (£1.1bn) in the six months to 31 July - up 8% on the same period last year.</th>\n",
       "      <td>s</td>\n",
       "      <td>0.683280</td>\n",
       "      <td>1.000000</td>\n",
       "      <td>0.643647</td>\n",
       "      <td>1.000000</td>\n",
       "      <td>1.000000</td>\n",
       "    </tr>\n",
       "    <tr>\n",
       "      <th>\\nSales jumped from €9.4bn to €10.5bn, an increase of 11%.</th>\n",
       "      <td>s</td>\n",
       "      <td>0.729922</td>\n",
       "      <td>0.395132</td>\n",
       "      <td>0.669389</td>\n",
       "      <td>0.225816</td>\n",
       "      <td>0.260140</td>\n",
       "    </tr>\n",
       "    <tr>\n",
       "      <th>\\nThe group's clothes can now be bought online in around 40 countries, it said.</th>\n",
       "      <td>s</td>\n",
       "      <td>0.390864</td>\n",
       "      <td>0.042293</td>\n",
       "      <td>-0.167252</td>\n",
       "      <td>0.047666</td>\n",
       "      <td>0.048265</td>\n",
       "    </tr>\n",
       "    <tr>\n",
       "      <th>\\nInditex operates eight brands in 90 countries including Pull&amp;Bear, Massimo Dutti and Bershka.</th>\n",
       "      <td>s</td>\n",
       "      <td>0.600581</td>\n",
       "      <td>0.297317</td>\n",
       "      <td>0.265977</td>\n",
       "      <td>0.457829</td>\n",
       "      <td>0.377207</td>\n",
       "    </tr>\n",
       "    <tr>\n",
       "      <th>\\nHow Zara's founder became the richest man in the world - for two days\\nChairman and chief executive Pablo Isla emphasised the firm's investment in technology, saying the firm had expanded its online stores to 11 new countries in the period.</th>\n",
       "      <td>s</td>\n",
       "      <td>0.707665</td>\n",
       "      <td>0.703973</td>\n",
       "      <td>1.000000</td>\n",
       "      <td>0.472878</td>\n",
       "      <td>0.584450</td>\n",
       "    </tr>\n",
       "    <tr>\n",
       "      <th>\\nIt also launched mobile phone payment in all its Spanish stores, with the objective of \"extending the service to other countries\".</th>\n",
       "      <td>s</td>\n",
       "      <td>0.645685</td>\n",
       "      <td>0.268591</td>\n",
       "      <td>0.255037</td>\n",
       "      <td>0.186310</td>\n",
       "      <td>0.205321</td>\n",
       "    </tr>\n",
       "    <tr>\n",
       "      <th>\\nThis will encompass online apps for all of its brands and a specific app for the whole group called InWallet.</th>\n",
       "      <td>s</td>\n",
       "      <td>0.548298</td>\n",
       "      <td>0.159034</td>\n",
       "      <td>0.105412</td>\n",
       "      <td>0.048554</td>\n",
       "      <td>0.039156</td>\n",
       "    </tr>\n",
       "    <tr>\n",
       "      <th>\\nMr Isla said: \"Both our online and bricks-and-mortar stores are seamlessly connected, driven by platforms such as mobile payment, and other technological initiatives that we will continue to develop.\"</th>\n",
       "      <td>s</td>\n",
       "      <td>0.556377</td>\n",
       "      <td>0.211338</td>\n",
       "      <td>0.150247</td>\n",
       "      <td>0.104636</td>\n",
       "      <td>0.101121</td>\n",
       "    </tr>\n",
       "    <tr>\n",
       "      <th>\\nTom Gadsby, an analyst at Liberum, said the firm's \"online drive\" was important.</th>\n",
       "      <td>s</td>\n",
       "      <td>0.676632</td>\n",
       "      <td>0.300964</td>\n",
       "      <td>0.224815</td>\n",
       "      <td>0.336209</td>\n",
       "      <td>0.342782</td>\n",
       "    </tr>\n",
       "    <tr>\n",
       "      <th>\\n\"I expect over the years they may find they don't have to open as many stores to maintain their strong growth rate as the online channel will become increasingly important,\" he said.</th>\n",
       "      <td>s</td>\n",
       "      <td>1.000000</td>\n",
       "      <td>0.329794</td>\n",
       "      <td>0.332405</td>\n",
       "      <td>0.303154</td>\n",
       "      <td>0.287829</td>\n",
       "    </tr>\n",
       "    <tr>\n",
       "      <th>\\n\"And while Zara is available in many of the territories in which they operate [online], most of their other brands aren't readily available outside Europe online.</th>\n",
       "      <td>s</td>\n",
       "      <td>0.218182</td>\n",
       "      <td>0.039034</td>\n",
       "      <td>0.007694</td>\n",
       "      <td>-0.009965</td>\n",
       "      <td>-0.013622</td>\n",
       "    </tr>\n",
       "    <tr>\n",
       "      <th>\\n\"So there is a big opportunity there for them to expand online into new territories.\"</th>\n",
       "      <td>s</td>\n",
       "      <td>0.188577</td>\n",
       "      <td>0.044537</td>\n",
       "      <td>0.007384</td>\n",
       "      <td>-0.024480</td>\n",
       "      <td>-0.018063</td>\n",
       "    </tr>\n",
       "    <tr>\n",
       "      <th>\\nThe company also said it had benefited from steady economic growth in Spain, where Inditex gets about a fifth of its sales.</th>\n",
       "      <td>s</td>\n",
       "      <td>0.760705</td>\n",
       "      <td>0.187366</td>\n",
       "      <td>-0.026861</td>\n",
       "      <td>0.152611</td>\n",
       "      <td>0.146245</td>\n",
       "    </tr>\n",
       "    <tr>\n",
       "      <th>\\nThat country's clothing market grew at an average of 3% in the three-months to the end of July, according to the Spanish statistics agency.</th>\n",
       "      <td>s</td>\n",
       "      <td>0.923588</td>\n",
       "      <td>0.446365</td>\n",
       "      <td>0.601362</td>\n",
       "      <td>0.508205</td>\n",
       "      <td>0.462474</td>\n",
       "    </tr>\n",
       "    <tr>\n",
       "      <th>\\nAll of the group's brands increased their international presence during the period, with 83 new stores opened in 38 countries.</th>\n",
       "      <td>s</td>\n",
       "      <td>0.488930</td>\n",
       "      <td>0.038490</td>\n",
       "      <td>-0.192519</td>\n",
       "      <td>0.031038</td>\n",
       "      <td>0.039291</td>\n",
       "    </tr>\n",
       "    <tr>\n",
       "      <th>\\nIn a call with analysts, it said it would open 6-8% of new store space over course of the year.</th>\n",
       "      <td>s</td>\n",
       "      <td>0.890768</td>\n",
       "      <td>0.493915</td>\n",
       "      <td>0.632328</td>\n",
       "      <td>0.366810</td>\n",
       "      <td>0.398132</td>\n",
       "    </tr>\n",
       "    <tr>\n",
       "      <th>\\n</th>\n",
       "      <td>n</td>\n",
       "      <td>0.000000</td>\n",
       "      <td>0.000000</td>\n",
       "      <td>0.000000</td>\n",
       "      <td>0.000000</td>\n",
       "      <td>0.000000</td>\n",
       "    </tr>\n",
       "    <tr>\n",
       "      <th>The firm's strong performance sets it apart from European rivals H&amp;M and Next, which have blamed unseasonal weather for below-forecast results this year.</th>\n",
       "      <td>s</td>\n",
       "      <td>0.361864</td>\n",
       "      <td>-0.083896</td>\n",
       "      <td>-0.156779</td>\n",
       "      <td>-0.048950</td>\n",
       "      <td>-0.049222</td>\n",
       "    </tr>\n",
       "  </tbody>\n",
       "</table>\n",
       "</div>"
      ],
      "text/plain": [
       "                                                   unit_types  nli_logit  \\\n",
       "units                                                                      \n",
       "The world's biggest clothing retailer posted ne...          s   0.683280   \n",
       "\\nSales jumped from €9.4bn to €10.5bn, an incre...          s   0.729922   \n",
       "\\nThe group's clothes can now be bought online ...          s   0.390864   \n",
       "\\nInditex operates eight brands in 90 countries...          s   0.600581   \n",
       "\\nHow Zara's founder became the richest man in ...          s   0.707665   \n",
       "\\nIt also launched mobile phone payment in all ...          s   0.645685   \n",
       "\\nThis will encompass online apps for all of it...          s   0.548298   \n",
       "\\nMr Isla said: \"Both our online and bricks-and...          s   0.556377   \n",
       "\\nTom Gadsby, an analyst at Liberum, said the f...          s   0.676632   \n",
       "\\n\"I expect over the years they may find they d...          s   1.000000   \n",
       "\\n\"And while Zara is available in many of the t...          s   0.218182   \n",
       "\\n\"So there is a big opportunity there for them...          s   0.188577   \n",
       "\\nThe company also said it had benefited from s...          s   0.760705   \n",
       "\\nThat country's clothing market grew at an ave...          s   0.923588   \n",
       "\\nAll of the group's brands increased their int...          s   0.488930   \n",
       "\\nIn a call with analysts, it said it would ope...          s   0.890768   \n",
       "\\n                                                          n   0.000000   \n",
       "The firm's strong performance sets it apart fro...          s   0.361864   \n",
       "\n",
       "                                                        bert        st  \\\n",
       "units                                                                    \n",
       "The world's biggest clothing retailer posted ne...  1.000000  0.643647   \n",
       "\\nSales jumped from €9.4bn to €10.5bn, an incre...  0.395132  0.669389   \n",
       "\\nThe group's clothes can now be bought online ...  0.042293 -0.167252   \n",
       "\\nInditex operates eight brands in 90 countries...  0.297317  0.265977   \n",
       "\\nHow Zara's founder became the richest man in ...  0.703973  1.000000   \n",
       "\\nIt also launched mobile phone payment in all ...  0.268591  0.255037   \n",
       "\\nThis will encompass online apps for all of it...  0.159034  0.105412   \n",
       "\\nMr Isla said: \"Both our online and bricks-and...  0.211338  0.150247   \n",
       "\\nTom Gadsby, an analyst at Liberum, said the f...  0.300964  0.224815   \n",
       "\\n\"I expect over the years they may find they d...  0.329794  0.332405   \n",
       "\\n\"And while Zara is available in many of the t...  0.039034  0.007694   \n",
       "\\n\"So there is a big opportunity there for them...  0.044537  0.007384   \n",
       "\\nThe company also said it had benefited from s...  0.187366 -0.026861   \n",
       "\\nThat country's clothing market grew at an ave...  0.446365  0.601362   \n",
       "\\nAll of the group's brands increased their int...  0.038490 -0.192519   \n",
       "\\nIn a call with analysts, it said it would ope...  0.493915  0.632328   \n",
       "\\n                                                  0.000000  0.000000   \n",
       "The firm's strong performance sets it apart fro... -0.083896 -0.156779   \n",
       "\n",
       "                                                        summ      bart  \n",
       "units                                                                   \n",
       "The world's biggest clothing retailer posted ne...  1.000000  1.000000  \n",
       "\\nSales jumped from €9.4bn to €10.5bn, an incre...  0.225816  0.260140  \n",
       "\\nThe group's clothes can now be bought online ...  0.047666  0.048265  \n",
       "\\nInditex operates eight brands in 90 countries...  0.457829  0.377207  \n",
       "\\nHow Zara's founder became the richest man in ...  0.472878  0.584450  \n",
       "\\nIt also launched mobile phone payment in all ...  0.186310  0.205321  \n",
       "\\nThis will encompass online apps for all of it...  0.048554  0.039156  \n",
       "\\nMr Isla said: \"Both our online and bricks-and...  0.104636  0.101121  \n",
       "\\nTom Gadsby, an analyst at Liberum, said the f...  0.336209  0.342782  \n",
       "\\n\"I expect over the years they may find they d...  0.303154  0.287829  \n",
       "\\n\"And while Zara is available in many of the t... -0.009965 -0.013622  \n",
       "\\n\"So there is a big opportunity there for them... -0.024480 -0.018063  \n",
       "\\nThe company also said it had benefited from s...  0.152611  0.146245  \n",
       "\\nThat country's clothing market grew at an ave...  0.508205  0.462474  \n",
       "\\nAll of the group's brands increased their int...  0.031038  0.039291  \n",
       "\\nIn a call with analysts, it said it would ope...  0.366810  0.398132  \n",
       "\\n                                                  0.000000  0.000000  \n",
       "The firm's strong performance sets it apart fro... -0.048950 -0.049222  "
      ]
     },
     "execution_count": 15,
     "metadata": {},
     "output_type": "execute_result"
    }
   ],
   "source": [
    "attrib_scores_df = pd.DataFrame(output_dict_sent[\"attributions\"]).set_index(\"units\")\n",
    "\n",
    "score_labels = explainer.scalarized_model.sim_scores\n",
    "attrib_scores_df = attrib_scores_df[[\"unit_types\"] + score_labels]\n",
    "attrib_scores_df[score_labels] /= attrib_scores_df[score_labels].max(axis=0)\n",
    "attrib_scores_df"
   ]
  },
  {
   "cell_type": "markdown",
   "id": "03796dd0-3fc9-455b-bd21-07dc3fe9d9ba",
   "metadata": {},
   "source": [
    "While the importance scores should align roughly with our human intuition (for example, sentences mentioning increases in earnings, sales, and online presence are important), we will defer to Section 4 the evaluation of how faithful they are to the summarization LLM."
   ]
  },
  {
   "cell_type": "markdown",
   "id": "2140e3da-0c78-47bb-b895-8e9d423b60c5",
   "metadata": {},
   "source": [
    "## 3. Mixed Phrase- and Sentence-Level Explanation"
   ]
  },
  {
   "cell_type": "markdown",
   "id": "d345d59c-1919-48b1-9d0c-4dfa3f2c063c",
   "metadata": {},
   "source": [
    "We will now consider the multi-level aspect of MExGen by obtaining mixed phrase- and sentence-level attributions to the input document."
   ]
  },
  {
   "cell_type": "markdown",
   "id": "0cb61e53-c2ee-497d-86fc-8c72ebae33f8",
   "metadata": {},
   "source": [
    "### Set up parameters"
   ]
  },
  {
   "cell_type": "markdown",
   "id": "12d33206-74bc-4a6b-afc3-a4eb9ed70598",
   "metadata": {},
   "source": [
    "For this illustration, we will segment the 2 most important sentences (as determined in the previous section) into phrases. (This number can be changed.) We will also measure importance by the sum of scores across the similarity metrics (a single similarity metric could be used too)."
   ]
  },
  {
   "cell_type": "code",
   "execution_count": 16,
   "id": "b7b3d705-f25d-43f1-9f3a-05eb9450a9d7",
   "metadata": {},
   "outputs": [],
   "source": [
    "num_top_sent = 2\n",
    "score_label = \"sum\""
   ]
  },
  {
   "cell_type": "markdown",
   "id": "f8542c46-2c64-4bfd-be6c-79fa92328d3a",
   "metadata": {},
   "source": [
    "The parameters for `explain_instance()` will be as follows:\n",
    "- `units` and `unit_types`: Take existing sentence-level units and unit types from `output_dict_sent[\"attributions\"]`\n",
    "- `ind_segment`: We create a Boolean array that has value `True` in positions corresponding to the top 2 sentences in terms of the sum of scores, and `False` otherwise. This will tell the explainer to segment only these 2 sentences.\n",
    "- `segment_type = \"ph\"` for segmentation into phrases\n",
    "- `model_params` as before"
   ]
  },
  {
   "cell_type": "code",
   "execution_count": 17,
   "id": "5905a633-3f35-4996-92b4-885e96f72c72",
   "metadata": {},
   "outputs": [
    {
     "data": {
      "text/plain": [
       "array([ True, False, False, False,  True, False, False, False, False,\n",
       "       False, False, False, False, False, False, False, False, False])"
      ]
     },
     "execution_count": 17,
     "metadata": {},
     "output_type": "execute_result"
    }
   ],
   "source": [
    "units = output_dict_sent[\"attributions\"][\"units\"]\n",
    "unit_types = output_dict_sent[\"attributions\"][\"unit_types\"]\n",
    "segment_type = \"ph\"\n",
    "\n",
    "if score_label == \"sum\":\n",
    "    scores = attrib_scores_df[score_labels].sum(axis=1).values\n",
    "else:\n",
    "    scores = attrib_scores_df[score_label].values\n",
    "\n",
    "ind_segment = np.zeros_like(scores, dtype=bool)\n",
    "ind_segment[np.argsort(scores)[-num_top_sent:]] = True\n",
    "ind_segment"
   ]
  },
  {
   "cell_type": "markdown",
   "id": "5d3ac0bb-1a16-4290-be82-48235636e318",
   "metadata": {},
   "source": [
    "### Call explainer"
   ]
  },
  {
   "cell_type": "markdown",
   "id": "31cf7d4c-7278-4268-8d70-200c92a3e981",
   "metadata": {},
   "source": [
    "Now we call `explain_instance()` with the above parameters"
   ]
  },
  {
   "cell_type": "code",
   "execution_count": 18,
   "id": "4de116e9-9d81-480d-a160-e8240bd003cc",
   "metadata": {},
   "outputs": [
    {
     "name": "stdout",
     "output_type": "stream",
     "text": [
      "became advcl How Zara's founder became\n",
      "expanded ccomp had expanded its online stores\n",
      "toma_generate batch size = 258\n",
      "['Inditex, the owner of Zara and Massimo Dutti, has reported a sharp rise in half-year profits.']\n",
      "['Inditex, the owner of Zara and Massimo Dutti, has reported a sharp rise in half-year profits.', 'Inditex, the owner of chains including Zara, Pull&Bear and Massimo Dutti, has reported a sharp rise in profits.', 'Inditex, the owner of chains including Zara, Massimo Dutti and Pull&Bear, has reported a sharp rise in profits.', 'Inditex, the owner of chains including Zara, Pull&Bear and Massimo Dutti, has reported a sharp rise in half-year profits.', 'Inditex, the owner of chains including Zara, Massimo Dutti and Pull&Bear, has reported a sharp rise in profits.']\n",
      "NLI scalarizer ref->gen\n",
      "toma_call batch size = 258\n",
      "NLI scalarizer gen->ref\n",
      "toma_call batch size = 258\n",
      "summ scalarizer\n",
      "toma_get_probs batch size = 258\n"
     ]
    }
   ],
   "source": [
    "output_dict_mixed = explainer.explain_instance(units, unit_types, ind_segment=ind_segment, segment_type=segment_type, model_params=model_params)"
   ]
  },
  {
   "cell_type": "markdown",
   "id": "8e29835f-ba9d-4ecf-83a4-bc9858d30d9e",
   "metadata": {},
   "source": [
    "### Look at output"
   ]
  },
  {
   "cell_type": "markdown",
   "id": "1ba7ba78-85b9-4762-8c49-2a5290477a98",
   "metadata": {},
   "source": [
    "Output summary for the original document"
   ]
  },
  {
   "cell_type": "code",
   "execution_count": 19,
   "id": "5b0c7ec1-1912-486a-a1ca-6f276d9771e7",
   "metadata": {},
   "outputs": [
    {
     "data": {
      "text/plain": [
       "['Inditex, the owner of Zara and Massimo Dutti, has reported a sharp rise in half-year profits.']"
      ]
     },
     "execution_count": 19,
     "metadata": {},
     "output_type": "execute_result"
    }
   ],
   "source": [
    "output_dict_mixed[\"output_orig\"].output_text"
   ]
  },
  {
   "cell_type": "markdown",
   "id": "9413cee6-4cf4-47d7-8521-4e99fa933e22",
   "metadata": {},
   "source": [
    "Mixed phrase- and sentence-level importance scores using each similarity metric, again normalized by the maximum score:"
   ]
  },
  {
   "cell_type": "code",
   "execution_count": 20,
   "id": "865d634f-a0af-433e-8f81-bb0db2bfcb15",
   "metadata": {},
   "outputs": [
    {
     "data": {
      "text/html": [
       "<div>\n",
       "<style scoped>\n",
       "    .dataframe tbody tr th:only-of-type {\n",
       "        vertical-align: middle;\n",
       "    }\n",
       "\n",
       "    .dataframe tbody tr th {\n",
       "        vertical-align: top;\n",
       "    }\n",
       "\n",
       "    .dataframe thead th {\n",
       "        text-align: right;\n",
       "    }\n",
       "</style>\n",
       "<table border=\"1\" class=\"dataframe\">\n",
       "  <thead>\n",
       "    <tr style=\"text-align: right;\">\n",
       "      <th></th>\n",
       "      <th>unit_types</th>\n",
       "      <th>nli_logit</th>\n",
       "      <th>bert</th>\n",
       "      <th>st</th>\n",
       "      <th>summ</th>\n",
       "      <th>bart</th>\n",
       "    </tr>\n",
       "    <tr>\n",
       "      <th>units</th>\n",
       "      <th></th>\n",
       "      <th></th>\n",
       "      <th></th>\n",
       "      <th></th>\n",
       "      <th></th>\n",
       "      <th></th>\n",
       "    </tr>\n",
       "  </thead>\n",
       "  <tbody>\n",
       "    <tr>\n",
       "      <th>The world's biggest clothing retailer</th>\n",
       "      <td>nsubj</td>\n",
       "      <td>0.761780</td>\n",
       "      <td>1.000000</td>\n",
       "      <td>1.000000</td>\n",
       "      <td>1.000000</td>\n",
       "      <td>1.000000</td>\n",
       "    </tr>\n",
       "    <tr>\n",
       "      <th>posted</th>\n",
       "      <td>ROOT</td>\n",
       "      <td>-0.019273</td>\n",
       "      <td>0.013167</td>\n",
       "      <td>0.066859</td>\n",
       "      <td>-0.067879</td>\n",
       "      <td>-0.029003</td>\n",
       "    </tr>\n",
       "    <tr>\n",
       "      <th>net earnings of €1.26bn (£1.1bn)</th>\n",
       "      <td>dobj</td>\n",
       "      <td>0.753891</td>\n",
       "      <td>0.553393</td>\n",
       "      <td>0.565972</td>\n",
       "      <td>0.302390</td>\n",
       "      <td>0.312603</td>\n",
       "    </tr>\n",
       "    <tr>\n",
       "      <th>in the six months to 31 July</th>\n",
       "      <td>prep</td>\n",
       "      <td>0.355874</td>\n",
       "      <td>0.643719</td>\n",
       "      <td>0.249408</td>\n",
       "      <td>0.394622</td>\n",
       "      <td>0.349698</td>\n",
       "    </tr>\n",
       "    <tr>\n",
       "      <th>-</th>\n",
       "      <td>n</td>\n",
       "      <td>0.000000</td>\n",
       "      <td>0.000000</td>\n",
       "      <td>0.000000</td>\n",
       "      <td>0.000000</td>\n",
       "      <td>0.000000</td>\n",
       "    </tr>\n",
       "    <tr>\n",
       "      <th>up 8% on the same period last year</th>\n",
       "      <td>advmod</td>\n",
       "      <td>0.413663</td>\n",
       "      <td>0.335615</td>\n",
       "      <td>0.193663</td>\n",
       "      <td>0.002911</td>\n",
       "      <td>0.023664</td>\n",
       "    </tr>\n",
       "    <tr>\n",
       "      <th>.</th>\n",
       "      <td>n</td>\n",
       "      <td>0.000000</td>\n",
       "      <td>0.000000</td>\n",
       "      <td>0.000000</td>\n",
       "      <td>0.000000</td>\n",
       "      <td>0.000000</td>\n",
       "    </tr>\n",
       "    <tr>\n",
       "      <th>\\nSales jumped from €9.4bn to €10.5bn, an increase of 11%.</th>\n",
       "      <td>s</td>\n",
       "      <td>0.798400</td>\n",
       "      <td>0.397421</td>\n",
       "      <td>0.532677</td>\n",
       "      <td>0.133202</td>\n",
       "      <td>0.118465</td>\n",
       "    </tr>\n",
       "    <tr>\n",
       "      <th>\\nThe group's clothes can now be bought online in around 40 countries, it said.</th>\n",
       "      <td>s</td>\n",
       "      <td>-0.145032</td>\n",
       "      <td>-0.080781</td>\n",
       "      <td>-0.008423</td>\n",
       "      <td>0.045120</td>\n",
       "      <td>0.048113</td>\n",
       "    </tr>\n",
       "    <tr>\n",
       "      <th>\\nInditex operates eight brands in 90 countries including Pull&amp;Bear, Massimo Dutti and Bershka.</th>\n",
       "      <td>s</td>\n",
       "      <td>0.697173</td>\n",
       "      <td>0.721930</td>\n",
       "      <td>0.890838</td>\n",
       "      <td>0.770730</td>\n",
       "      <td>0.698585</td>\n",
       "    </tr>\n",
       "    <tr>\n",
       "      <th>\\n</th>\n",
       "      <td>n</td>\n",
       "      <td>0.000000</td>\n",
       "      <td>0.000000</td>\n",
       "      <td>0.000000</td>\n",
       "      <td>0.000000</td>\n",
       "      <td>0.000000</td>\n",
       "    </tr>\n",
       "    <tr>\n",
       "      <th>How Zara's founder became</th>\n",
       "      <td>non-leaf</td>\n",
       "      <td>1.000000</td>\n",
       "      <td>0.656790</td>\n",
       "      <td>0.699175</td>\n",
       "      <td>0.463225</td>\n",
       "      <td>0.462987</td>\n",
       "    </tr>\n",
       "    <tr>\n",
       "      <th>the richest man in the world</th>\n",
       "      <td>attr</td>\n",
       "      <td>0.498924</td>\n",
       "      <td>0.202898</td>\n",
       "      <td>0.242346</td>\n",
       "      <td>0.015518</td>\n",
       "      <td>0.008883</td>\n",
       "    </tr>\n",
       "    <tr>\n",
       "      <th>-</th>\n",
       "      <td>n</td>\n",
       "      <td>0.000000</td>\n",
       "      <td>0.000000</td>\n",
       "      <td>0.000000</td>\n",
       "      <td>0.000000</td>\n",
       "      <td>0.000000</td>\n",
       "    </tr>\n",
       "    <tr>\n",
       "      <th>for two days</th>\n",
       "      <td>prep</td>\n",
       "      <td>-0.026446</td>\n",
       "      <td>-0.024018</td>\n",
       "      <td>-0.038698</td>\n",
       "      <td>-0.026014</td>\n",
       "      <td>-0.025854</td>\n",
       "    </tr>\n",
       "    <tr>\n",
       "      <th>\\n</th>\n",
       "      <td>n</td>\n",
       "      <td>0.000000</td>\n",
       "      <td>0.000000</td>\n",
       "      <td>0.000000</td>\n",
       "      <td>0.000000</td>\n",
       "      <td>0.000000</td>\n",
       "    </tr>\n",
       "    <tr>\n",
       "      <th>Chairman and chief executive Pablo Isla</th>\n",
       "      <td>nsubj</td>\n",
       "      <td>0.559903</td>\n",
       "      <td>0.245624</td>\n",
       "      <td>0.083386</td>\n",
       "      <td>-0.035465</td>\n",
       "      <td>-0.035741</td>\n",
       "    </tr>\n",
       "    <tr>\n",
       "      <th>emphasised</th>\n",
       "      <td>ROOT</td>\n",
       "      <td>0.732028</td>\n",
       "      <td>0.316333</td>\n",
       "      <td>0.097631</td>\n",
       "      <td>-0.086952</td>\n",
       "      <td>-0.076342</td>\n",
       "    </tr>\n",
       "    <tr>\n",
       "      <th>the firm's investment in technology</th>\n",
       "      <td>dobj</td>\n",
       "      <td>0.571772</td>\n",
       "      <td>0.279794</td>\n",
       "      <td>0.081857</td>\n",
       "      <td>-0.061290</td>\n",
       "      <td>-0.055816</td>\n",
       "    </tr>\n",
       "    <tr>\n",
       "      <th>,</th>\n",
       "      <td>n</td>\n",
       "      <td>0.000000</td>\n",
       "      <td>0.000000</td>\n",
       "      <td>0.000000</td>\n",
       "      <td>0.000000</td>\n",
       "      <td>0.000000</td>\n",
       "    </tr>\n",
       "    <tr>\n",
       "      <th>saying</th>\n",
       "      <td>non-leaf</td>\n",
       "      <td>-0.000191</td>\n",
       "      <td>0.056358</td>\n",
       "      <td>0.110401</td>\n",
       "      <td>0.077796</td>\n",
       "      <td>0.074199</td>\n",
       "    </tr>\n",
       "    <tr>\n",
       "      <th>the firm</th>\n",
       "      <td>nsubj</td>\n",
       "      <td>-0.024670</td>\n",
       "      <td>0.022419</td>\n",
       "      <td>0.045460</td>\n",
       "      <td>0.059150</td>\n",
       "      <td>0.060242</td>\n",
       "    </tr>\n",
       "    <tr>\n",
       "      <th>had expanded its online stores</th>\n",
       "      <td>non-leaf</td>\n",
       "      <td>0.175321</td>\n",
       "      <td>0.109267</td>\n",
       "      <td>0.125397</td>\n",
       "      <td>0.050718</td>\n",
       "      <td>0.049953</td>\n",
       "    </tr>\n",
       "    <tr>\n",
       "      <th>to 11 new countries</th>\n",
       "      <td>prep</td>\n",
       "      <td>0.036182</td>\n",
       "      <td>0.020531</td>\n",
       "      <td>0.010739</td>\n",
       "      <td>0.021521</td>\n",
       "      <td>0.018555</td>\n",
       "    </tr>\n",
       "    <tr>\n",
       "      <th>in the period</th>\n",
       "      <td>prep</td>\n",
       "      <td>0.029960</td>\n",
       "      <td>0.028356</td>\n",
       "      <td>0.009137</td>\n",
       "      <td>0.015272</td>\n",
       "      <td>0.011095</td>\n",
       "    </tr>\n",
       "    <tr>\n",
       "      <th>.</th>\n",
       "      <td>n</td>\n",
       "      <td>0.000000</td>\n",
       "      <td>0.000000</td>\n",
       "      <td>0.000000</td>\n",
       "      <td>0.000000</td>\n",
       "      <td>0.000000</td>\n",
       "    </tr>\n",
       "    <tr>\n",
       "      <th>\\nIt also launched mobile phone payment in all its Spanish stores, with the objective of \"extending the service to other countries\".</th>\n",
       "      <td>s</td>\n",
       "      <td>0.830614</td>\n",
       "      <td>0.437893</td>\n",
       "      <td>0.425579</td>\n",
       "      <td>0.277856</td>\n",
       "      <td>0.275284</td>\n",
       "    </tr>\n",
       "    <tr>\n",
       "      <th>\\nThis will encompass online apps for all of its brands and a specific app for the whole group called InWallet.</th>\n",
       "      <td>s</td>\n",
       "      <td>0.358946</td>\n",
       "      <td>0.159930</td>\n",
       "      <td>0.133401</td>\n",
       "      <td>0.036306</td>\n",
       "      <td>0.037782</td>\n",
       "    </tr>\n",
       "    <tr>\n",
       "      <th>\\nMr Isla said: \"Both our online and bricks-and-mortar stores are seamlessly connected, driven by platforms such as mobile payment, and other technological initiatives that we will continue to develop.\"</th>\n",
       "      <td>s</td>\n",
       "      <td>0.198519</td>\n",
       "      <td>0.126102</td>\n",
       "      <td>0.094169</td>\n",
       "      <td>0.038909</td>\n",
       "      <td>0.043991</td>\n",
       "    </tr>\n",
       "    <tr>\n",
       "      <th>\\nTom Gadsby, an analyst at Liberum, said the firm's \"online drive\" was important.</th>\n",
       "      <td>s</td>\n",
       "      <td>0.198426</td>\n",
       "      <td>0.121622</td>\n",
       "      <td>0.117407</td>\n",
       "      <td>0.115574</td>\n",
       "      <td>0.122302</td>\n",
       "    </tr>\n",
       "    <tr>\n",
       "      <th>\\n\"I expect over the years they may find they don't have to open as many stores to maintain their strong growth rate as the online channel will become increasingly important,\" he said.</th>\n",
       "      <td>s</td>\n",
       "      <td>0.586592</td>\n",
       "      <td>0.306874</td>\n",
       "      <td>0.277640</td>\n",
       "      <td>0.129380</td>\n",
       "      <td>0.119601</td>\n",
       "    </tr>\n",
       "    <tr>\n",
       "      <th>\\n\"And while Zara is available in many of the territories in which they operate [online], most of their other brands aren't readily available outside Europe online.</th>\n",
       "      <td>s</td>\n",
       "      <td>0.731454</td>\n",
       "      <td>0.491775</td>\n",
       "      <td>0.374773</td>\n",
       "      <td>0.300718</td>\n",
       "      <td>0.266648</td>\n",
       "    </tr>\n",
       "    <tr>\n",
       "      <th>\\n\"So there is a big opportunity there for them to expand online into new territories.\"</th>\n",
       "      <td>s</td>\n",
       "      <td>-0.120767</td>\n",
       "      <td>-0.060138</td>\n",
       "      <td>-0.037352</td>\n",
       "      <td>-0.055202</td>\n",
       "      <td>-0.061474</td>\n",
       "    </tr>\n",
       "    <tr>\n",
       "      <th>\\nThe company also said it had benefited from steady economic growth in Spain, where Inditex gets about a fifth of its sales.</th>\n",
       "      <td>s</td>\n",
       "      <td>0.587978</td>\n",
       "      <td>0.278297</td>\n",
       "      <td>0.253464</td>\n",
       "      <td>0.189680</td>\n",
       "      <td>0.189629</td>\n",
       "    </tr>\n",
       "    <tr>\n",
       "      <th>\\nThat country's clothing market grew at an average of 3% in the three-months to the end of July, according to the Spanish statistics agency.</th>\n",
       "      <td>s</td>\n",
       "      <td>0.774326</td>\n",
       "      <td>0.406946</td>\n",
       "      <td>0.414373</td>\n",
       "      <td>0.272611</td>\n",
       "      <td>0.258739</td>\n",
       "    </tr>\n",
       "    <tr>\n",
       "      <th>\\nAll of the group's brands increased their international presence during the period, with 83 new stores opened in 38 countries.</th>\n",
       "      <td>s</td>\n",
       "      <td>-0.933324</td>\n",
       "      <td>-0.441782</td>\n",
       "      <td>-0.337152</td>\n",
       "      <td>-0.193818</td>\n",
       "      <td>-0.188448</td>\n",
       "    </tr>\n",
       "    <tr>\n",
       "      <th>\\nIn a call with analysts, it said it would open 6-8% of new store space over course of the year.</th>\n",
       "      <td>s</td>\n",
       "      <td>0.405407</td>\n",
       "      <td>0.114183</td>\n",
       "      <td>0.045864</td>\n",
       "      <td>-0.099814</td>\n",
       "      <td>-0.102668</td>\n",
       "    </tr>\n",
       "    <tr>\n",
       "      <th>\\n</th>\n",
       "      <td>n</td>\n",
       "      <td>0.000000</td>\n",
       "      <td>0.000000</td>\n",
       "      <td>0.000000</td>\n",
       "      <td>0.000000</td>\n",
       "      <td>0.000000</td>\n",
       "    </tr>\n",
       "    <tr>\n",
       "      <th>The firm's strong performance sets it apart from European rivals H&amp;M and Next, which have blamed unseasonal weather for below-forecast results this year.</th>\n",
       "      <td>s</td>\n",
       "      <td>0.573354</td>\n",
       "      <td>0.203896</td>\n",
       "      <td>0.106801</td>\n",
       "      <td>0.053895</td>\n",
       "      <td>0.050738</td>\n",
       "    </tr>\n",
       "  </tbody>\n",
       "</table>\n",
       "</div>"
      ],
      "text/plain": [
       "                                                   unit_types  nli_logit  \\\n",
       "units                                                                      \n",
       "The world's biggest clothing retailer                   nsubj   0.761780   \n",
       "posted                                                   ROOT  -0.019273   \n",
       "net earnings of €1.26bn (£1.1bn)                         dobj   0.753891   \n",
       "in the six months to 31 July                             prep   0.355874   \n",
       "-                                                           n   0.000000   \n",
       "up 8% on the same period last year                     advmod   0.413663   \n",
       ".                                                           n   0.000000   \n",
       "\\nSales jumped from €9.4bn to €10.5bn, an incre...          s   0.798400   \n",
       "\\nThe group's clothes can now be bought online ...          s  -0.145032   \n",
       "\\nInditex operates eight brands in 90 countries...          s   0.697173   \n",
       "\\n                                                          n   0.000000   \n",
       "How Zara's founder became                            non-leaf   1.000000   \n",
       "the richest man in the world                             attr   0.498924   \n",
       "-                                                           n   0.000000   \n",
       "for two days                                             prep  -0.026446   \n",
       "\\n                                                          n   0.000000   \n",
       "Chairman and chief executive Pablo Isla                 nsubj   0.559903   \n",
       "emphasised                                               ROOT   0.732028   \n",
       "the firm's investment in technology                      dobj   0.571772   \n",
       ",                                                           n   0.000000   \n",
       "saying                                               non-leaf  -0.000191   \n",
       "the firm                                                nsubj  -0.024670   \n",
       "had expanded its online stores                       non-leaf   0.175321   \n",
       "to 11 new countries                                      prep   0.036182   \n",
       "in the period                                            prep   0.029960   \n",
       ".                                                           n   0.000000   \n",
       "\\nIt also launched mobile phone payment in all ...          s   0.830614   \n",
       "\\nThis will encompass online apps for all of it...          s   0.358946   \n",
       "\\nMr Isla said: \"Both our online and bricks-and...          s   0.198519   \n",
       "\\nTom Gadsby, an analyst at Liberum, said the f...          s   0.198426   \n",
       "\\n\"I expect over the years they may find they d...          s   0.586592   \n",
       "\\n\"And while Zara is available in many of the t...          s   0.731454   \n",
       "\\n\"So there is a big opportunity there for them...          s  -0.120767   \n",
       "\\nThe company also said it had benefited from s...          s   0.587978   \n",
       "\\nThat country's clothing market grew at an ave...          s   0.774326   \n",
       "\\nAll of the group's brands increased their int...          s  -0.933324   \n",
       "\\nIn a call with analysts, it said it would ope...          s   0.405407   \n",
       "\\n                                                          n   0.000000   \n",
       "The firm's strong performance sets it apart fro...          s   0.573354   \n",
       "\n",
       "                                                        bert        st  \\\n",
       "units                                                                    \n",
       "The world's biggest clothing retailer               1.000000  1.000000   \n",
       "posted                                              0.013167  0.066859   \n",
       "net earnings of €1.26bn (£1.1bn)                    0.553393  0.565972   \n",
       "in the six months to 31 July                        0.643719  0.249408   \n",
       "-                                                   0.000000  0.000000   \n",
       "up 8% on the same period last year                  0.335615  0.193663   \n",
       ".                                                   0.000000  0.000000   \n",
       "\\nSales jumped from €9.4bn to €10.5bn, an incre...  0.397421  0.532677   \n",
       "\\nThe group's clothes can now be bought online ... -0.080781 -0.008423   \n",
       "\\nInditex operates eight brands in 90 countries...  0.721930  0.890838   \n",
       "\\n                                                  0.000000  0.000000   \n",
       "How Zara's founder became                           0.656790  0.699175   \n",
       "the richest man in the world                        0.202898  0.242346   \n",
       "-                                                   0.000000  0.000000   \n",
       "for two days                                       -0.024018 -0.038698   \n",
       "\\n                                                  0.000000  0.000000   \n",
       "Chairman and chief executive Pablo Isla             0.245624  0.083386   \n",
       "emphasised                                          0.316333  0.097631   \n",
       "the firm's investment in technology                 0.279794  0.081857   \n",
       ",                                                   0.000000  0.000000   \n",
       "saying                                              0.056358  0.110401   \n",
       "the firm                                            0.022419  0.045460   \n",
       "had expanded its online stores                      0.109267  0.125397   \n",
       "to 11 new countries                                 0.020531  0.010739   \n",
       "in the period                                       0.028356  0.009137   \n",
       ".                                                   0.000000  0.000000   \n",
       "\\nIt also launched mobile phone payment in all ...  0.437893  0.425579   \n",
       "\\nThis will encompass online apps for all of it...  0.159930  0.133401   \n",
       "\\nMr Isla said: \"Both our online and bricks-and...  0.126102  0.094169   \n",
       "\\nTom Gadsby, an analyst at Liberum, said the f...  0.121622  0.117407   \n",
       "\\n\"I expect over the years they may find they d...  0.306874  0.277640   \n",
       "\\n\"And while Zara is available in many of the t...  0.491775  0.374773   \n",
       "\\n\"So there is a big opportunity there for them... -0.060138 -0.037352   \n",
       "\\nThe company also said it had benefited from s...  0.278297  0.253464   \n",
       "\\nThat country's clothing market grew at an ave...  0.406946  0.414373   \n",
       "\\nAll of the group's brands increased their int... -0.441782 -0.337152   \n",
       "\\nIn a call with analysts, it said it would ope...  0.114183  0.045864   \n",
       "\\n                                                  0.000000  0.000000   \n",
       "The firm's strong performance sets it apart fro...  0.203896  0.106801   \n",
       "\n",
       "                                                        summ      bart  \n",
       "units                                                                   \n",
       "The world's biggest clothing retailer               1.000000  1.000000  \n",
       "posted                                             -0.067879 -0.029003  \n",
       "net earnings of €1.26bn (£1.1bn)                    0.302390  0.312603  \n",
       "in the six months to 31 July                        0.394622  0.349698  \n",
       "-                                                   0.000000  0.000000  \n",
       "up 8% on the same period last year                  0.002911  0.023664  \n",
       ".                                                   0.000000  0.000000  \n",
       "\\nSales jumped from €9.4bn to €10.5bn, an incre...  0.133202  0.118465  \n",
       "\\nThe group's clothes can now be bought online ...  0.045120  0.048113  \n",
       "\\nInditex operates eight brands in 90 countries...  0.770730  0.698585  \n",
       "\\n                                                  0.000000  0.000000  \n",
       "How Zara's founder became                           0.463225  0.462987  \n",
       "the richest man in the world                        0.015518  0.008883  \n",
       "-                                                   0.000000  0.000000  \n",
       "for two days                                       -0.026014 -0.025854  \n",
       "\\n                                                  0.000000  0.000000  \n",
       "Chairman and chief executive Pablo Isla            -0.035465 -0.035741  \n",
       "emphasised                                         -0.086952 -0.076342  \n",
       "the firm's investment in technology                -0.061290 -0.055816  \n",
       ",                                                   0.000000  0.000000  \n",
       "saying                                              0.077796  0.074199  \n",
       "the firm                                            0.059150  0.060242  \n",
       "had expanded its online stores                      0.050718  0.049953  \n",
       "to 11 new countries                                 0.021521  0.018555  \n",
       "in the period                                       0.015272  0.011095  \n",
       ".                                                   0.000000  0.000000  \n",
       "\\nIt also launched mobile phone payment in all ...  0.277856  0.275284  \n",
       "\\nThis will encompass online apps for all of it...  0.036306  0.037782  \n",
       "\\nMr Isla said: \"Both our online and bricks-and...  0.038909  0.043991  \n",
       "\\nTom Gadsby, an analyst at Liberum, said the f...  0.115574  0.122302  \n",
       "\\n\"I expect over the years they may find they d...  0.129380  0.119601  \n",
       "\\n\"And while Zara is available in many of the t...  0.300718  0.266648  \n",
       "\\n\"So there is a big opportunity there for them... -0.055202 -0.061474  \n",
       "\\nThe company also said it had benefited from s...  0.189680  0.189629  \n",
       "\\nThat country's clothing market grew at an ave...  0.272611  0.258739  \n",
       "\\nAll of the group's brands increased their int... -0.193818 -0.188448  \n",
       "\\nIn a call with analysts, it said it would ope... -0.099814 -0.102668  \n",
       "\\n                                                  0.000000  0.000000  \n",
       "The firm's strong performance sets it apart fro...  0.053895  0.050738  "
      ]
     },
     "execution_count": 20,
     "metadata": {},
     "output_type": "execute_result"
    }
   ],
   "source": [
    "attrib_scores_df = pd.DataFrame(output_dict_mixed[\"attributions\"]).set_index(\"units\")\n",
    "attrib_scores_df = attrib_scores_df[[\"unit_types\"] + score_labels]\n",
    "attrib_scores_df[score_labels] /= attrib_scores_df[score_labels].max(axis=0)\n",
    "attrib_scores_df"
   ]
  },
  {
   "cell_type": "markdown",
   "id": "9430b011-e88d-4e71-82d0-bb3094914271",
   "metadata": {},
   "source": [
    "## 4. Evaluate fidelity of attributions to explained model"
   ]
  },
  {
   "cell_type": "markdown",
   "id": "873d2d64-af7b-42da-b692-5609e5ff690f",
   "metadata": {},
   "source": [
    "We now evaluate the fidelity of both the sentence-level and mixed-level explanations to the behavior of the summarization model. We do this by computing *perturbation curves*. Given a set of attribution scores, the perturbation curve measures how much the output summary changes as we remove more and more units from the input document, in decreasing order of importance according to the scores."
   ]
  },
  {
   "cell_type": "markdown",
   "id": "14a075b2-8117-4ef3-b758-f4e2fb23fdcb",
   "metadata": {},
   "source": [
    "### Instantiate perturbation curve evaluator"
   ]
  },
  {
   "cell_type": "markdown",
   "id": "243f9749-d590-4a38-91ad-92fb2cb6c268",
   "metadata": {},
   "source": [
    "We instantiate a `PerturbCurveEvaluator` to compute perturbation curves. Similar to the explainer, `PerturbCurveEvaluator` requires a scalarizer to quantify how much the output summary changes from the original summary as more input units are removed. Here we use a **different** scalarizer than those used in the explainer, namely the `\"prob\"` scalarizer, which computes the probability of generating the original summary conditioned on perturbed inputs."
   ]
  },
  {
   "cell_type": "code",
   "execution_count": 21,
   "id": "88d8f9df-41fd-44d1-86f2-e84664d3a726",
   "metadata": {},
   "outputs": [],
   "source": [
    "evaluator = PerturbCurveEvaluator(wrapped_model, scalarizer=\"prob\")"
   ]
  },
  {
   "cell_type": "markdown",
   "id": "d7b81d85-2221-4e9d-86a5-8461ef50edd4",
   "metadata": {},
   "source": [
    "### Evaluate perturbation curves"
   ]
  },
  {
   "cell_type": "markdown",
   "id": "11495d35-4095-4909-b295-af1331f15229",
   "metadata": {},
   "source": [
    "We call the `eval_perturb_curve` method to compute perturbation curves for both sentence-level and mixed-level attribution scores and for all scores obtained with the different similarity metrics in the explanation scalarizer (NLI score, BERTScore, etc.). Parameters for `eval_perturb_curve` are as follows:\n",
    "- `output_dict_sent` or `output_dict_mixed`: The dictionary returned by the explainer\n",
    "- `score_label`: The score label corresponding to each similarity metric\n",
    "- `token_frac=True`: This setting allows comparison between different kinds of units (sentences vs. mixed) because it takes into account the number of tokens in each unit, which is considered as the length of the unit and in ranking units.\n",
    "- `model_params`: The same model generation parameters as before"
   ]
  },
  {
   "cell_type": "code",
   "execution_count": 22,
   "id": "6378374a-f738-42eb-8c60-0031a5b1dfd6",
   "metadata": {},
   "outputs": [
    {
     "name": "stdout",
     "output_type": "stream",
     "text": [
      "toma_get_probs batch size = 11\n",
      "toma_get_probs batch size = 18\n",
      "toma_get_probs batch size = 10\n",
      "toma_get_probs batch size = 20\n",
      "toma_get_probs batch size = 10\n",
      "toma_get_probs batch size = 21\n",
      "toma_get_probs batch size = 9\n",
      "toma_get_probs batch size = 18\n",
      "toma_get_probs batch size = 10\n",
      "toma_get_probs batch size = 18\n"
     ]
    }
   ],
   "source": [
    "perturb_curve = {\"sent\": {}, \"mixed\": {}}\n",
    "\n",
    "for score_label in score_labels:\n",
    "    perturb_curve[\"sent\"][score_label] = evaluator.eval_perturb_curve(output_dict_sent, score_label, token_frac=True, model_params=model_params)\n",
    "    perturb_curve[\"mixed\"][score_label] = evaluator.eval_perturb_curve(output_dict_mixed, score_label, token_frac=True, model_params=model_params)"
   ]
  },
  {
   "cell_type": "markdown",
   "id": "6872e262-fa9d-4ad9-909f-bfc38db8fbf4",
   "metadata": {},
   "source": [
    "### Plot perturbation curves"
   ]
  },
  {
   "cell_type": "markdown",
   "id": "6adb1415-9d29-48b5-aac9-9bcd4d9f0274",
   "metadata": {},
   "source": [
    "The perturbation curves are plotted below as a function of the fraction of tokens removed from the input. The y-axis is the decrease in the log probability of generating the original summary, computed by the scalarizer of `PerturbCurveEvaluator`."
   ]
  },
  {
   "cell_type": "code",
   "execution_count": 23,
   "id": "8b8a17a9-1908-4fa6-8cfa-489a86001db5",
   "metadata": {},
   "outputs": [
    {
     "data": {
      "text/plain": [
       "<matplotlib.legend.Legend at 0x14abe9e1c850>"
      ]
     },
     "execution_count": 23,
     "metadata": {},
     "output_type": "execute_result"
    },
    {
     "data": {
      "image/png": "[encoded data removed]",
      "text/plain": [
       "<Figure size 640x480 with 1 Axes>"
      ]
     },
     "metadata": {},
     "output_type": "display_data"
    }
   ],
   "source": [
    "# Sentence-level perturbation curves\n",
    "line = {}\n",
    "for score_label in score_labels:\n",
    "    df = pd.DataFrame(perturb_curve[\"sent\"][score_label]).set_index(\"frac\")\n",
    "    line[score_label], = plt.plot(df.loc[0] - df)\n",
    "\n",
    "# Mixed-level perturbation curves\n",
    "for score_label in score_labels:\n",
    "    df = pd.DataFrame(perturb_curve[\"mixed\"][score_label]).set_index(\"frac\")\n",
    "    plt.plot(df.loc[0] - df, color=line[score_label].get_color(), linestyle=\"--\")\n",
    "\n",
    "plt.xlabel(\"fraction of tokens perturbed\")\n",
    "plt.ylabel(\"decrease in log prob of original output\")\n",
    "plt.legend(score_labels)"
   ]
  },
  {
   "cell_type": "markdown",
   "id": "fd82d3ee-1809-4f01-b624-04189c994082",
   "metadata": {},
   "source": [
    "In general, we are looking for perturbation curves to increase as more tokens are removed from the input. A higher perturbation curve is better because it indicates that the units identified by the explanation as important actually do have a larger effect on the LLM's output, and hence the explanation is more faithful to the LLM. Some observations for specific LLMs (your results may vary):\n",
    "\n",
    "**DistilBART**: For this model, mixed-level attribution scores (dashed curves) are generally more effective in identifying units whose removal causes larger drops in the model's log probability. \n",
    "\n",
    "**Granite-3.3-2B-Instruct**: Sentence-level attribution scores (solid curves) perform about as well as mixed-level scores for this model, and in some cases are better.\n",
    "\n",
    "**General observations**: There is no separation or clear ordering among the 5 similarity metrics, based on this single example. `\"summ\"`, and `\"bart\"` tend to be most similar to each other, and `\"bert\"` and `\"st\"` may be similar to each other as well."
   ]
  }
 ],
 "metadata": {
  "kernelspec": {
   "display_name": "Python 3 (ipykernel)",
   "language": "python",
   "name": "python3"
  },
  "language_info": {
   "codemirror_mode": {
    "name": "ipython",
    "version": 3
   },
   "file_extension": ".py",
   "mimetype": "text/x-python",
   "name": "python",
   "nbconvert_exporter": "python",
   "pygments_lexer": "ipython3",
   "version": "3.11.13"
  }
 },
 "nbformat": 4,
 "nbformat_minor": 5
}
